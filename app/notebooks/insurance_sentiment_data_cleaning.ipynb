{
 "cells": [
  {
   "cell_type": "code",
   "execution_count": 37,
   "id": "4d01aadd-9abe-4bc5-9495-c707a494bfbc",
   "metadata": {},
   "outputs": [
    {
     "data": {
      "text/html": [
       "<div>\n",
       "<style scoped>\n",
       "    .dataframe tbody tr th:only-of-type {\n",
       "        vertical-align: middle;\n",
       "    }\n",
       "\n",
       "    .dataframe tbody tr th {\n",
       "        vertical-align: top;\n",
       "    }\n",
       "\n",
       "    .dataframe thead th {\n",
       "        text-align: right;\n",
       "    }\n",
       "</style>\n",
       "<table border=\"1\" class=\"dataframe\">\n",
       "  <thead>\n",
       "    <tr style=\"text-align: right;\">\n",
       "      <th></th>\n",
       "      <th>category (text)</th>\n",
       "      <th>category (binary)</th>\n",
       "      <th>sentiment (text)</th>\n",
       "      <th>sentiment (binary)</th>\n",
       "      <th>feedback</th>\n",
       "    </tr>\n",
       "  </thead>\n",
       "  <tbody>\n",
       "    <tr>\n",
       "      <th>0</th>\n",
       "      <td>claim</td>\n",
       "      <td>0</td>\n",
       "      <td>negative</td>\n",
       "      <td>1</td>\n",
       "      <td>I'm extremely disappointed with the lengthy an...</td>\n",
       "    </tr>\n",
       "    <tr>\n",
       "      <th>1</th>\n",
       "      <td>claim</td>\n",
       "      <td>0</td>\n",
       "      <td>negative</td>\n",
       "      <td>1</td>\n",
       "      <td># Inefficient communication and lack of transp...</td>\n",
       "    </tr>\n",
       "    <tr>\n",
       "      <th>2</th>\n",
       "      <td>claim</td>\n",
       "      <td>0</td>\n",
       "      <td>negative</td>\n",
       "      <td>1</td>\n",
       "      <td>I recently had a terrible experience with the ...</td>\n",
       "    </tr>\n",
       "    <tr>\n",
       "      <th>3</th>\n",
       "      <td>claim</td>\n",
       "      <td>0</td>\n",
       "      <td>negative</td>\n",
       "      <td>1</td>\n",
       "      <td>##$ I am extremely dissatisfied with the vehic...</td>\n",
       "    </tr>\n",
       "    <tr>\n",
       "      <th>4</th>\n",
       "      <td>claim</td>\n",
       "      <td>0</td>\n",
       "      <td>negative</td>\n",
       "      <td>1</td>\n",
       "      <td># Poor communication throughout the entire pro...</td>\n",
       "    </tr>\n",
       "  </tbody>\n",
       "</table>\n",
       "</div>"
      ],
      "text/plain": [
       "  category (text)  category (binary) sentiment (text)  sentiment (binary)  \\\n",
       "0           claim                  0         negative                   1   \n",
       "1           claim                  0         negative                   1   \n",
       "2           claim                  0         negative                   1   \n",
       "3           claim                  0         negative                   1   \n",
       "4           claim                  0         negative                   1   \n",
       "\n",
       "                                            feedback  \n",
       "0  I'm extremely disappointed with the lengthy an...  \n",
       "1  # Inefficient communication and lack of transp...  \n",
       "2  I recently had a terrible experience with the ...  \n",
       "3  ##$ I am extremely dissatisfied with the vehic...  \n",
       "4  # Poor communication throughout the entire pro...  "
      ]
     },
     "execution_count": 37,
     "metadata": {},
     "output_type": "execute_result"
    }
   ],
   "source": [
    "import pandas as pd\n",
    "\n",
    "df = pd.read_csv(r\"D:\\Jeeva\\ds_course\\insurance_final_project\\data\\raw_data\\insurance_review_sentiment.csv\")\n",
    "df.head()"
   ]
  },
  {
   "cell_type": "code",
   "execution_count": 41,
   "id": "4e6a0dc3-fba5-4e35-a9b2-85283a78b977",
   "metadata": {},
   "outputs": [
    {
     "data": {
      "text/plain": [
       "Index(['category', 'sentiment', 'feedback'], dtype='object')"
      ]
     },
     "execution_count": 41,
     "metadata": {},
     "output_type": "execute_result"
    }
   ],
   "source": [
    "df.columns"
   ]
  },
  {
   "cell_type": "code",
   "execution_count": 39,
   "id": "636d53fe-dc11-405a-91c3-b5d5aee86da1",
   "metadata": {},
   "outputs": [
    {
     "name": "stdout",
     "output_type": "stream",
     "text": [
      "Index(['category', 'sentiment', 'feedback'], dtype='object')\n"
     ]
    }
   ],
   "source": [
    "# Step 1: Drop encoded versions (binary ones)\n",
    "df = df.drop(columns=['category (binary)', 'sentiment (binary)'])\n",
    "\n",
    "# Step 2: Clean column names\n",
    "df.columns = df.columns.str.replace(r\"\\s*\\(.*\\)\", \"\", regex=True).str.strip()\n",
    "\n",
    "print(df.columns)"
   ]
  },
  {
   "cell_type": "code",
   "execution_count": 43,
   "id": "a93ac2d5-3452-424a-bc29-0395e69be30c",
   "metadata": {},
   "outputs": [
    {
     "name": "stdout",
     "output_type": "stream",
     "text": [
      "<class 'pandas.core.frame.DataFrame'>\n",
      "RangeIndex: 7585 entries, 0 to 7584\n",
      "Data columns (total 3 columns):\n",
      " #   Column     Non-Null Count  Dtype \n",
      "---  ------     --------------  ----- \n",
      " 0   category   7585 non-null   object\n",
      " 1   sentiment  7585 non-null   object\n",
      " 2   feedback   7585 non-null   object\n",
      "dtypes: object(3)\n",
      "memory usage: 177.9+ KB\n"
     ]
    }
   ],
   "source": [
    "df.info()"
   ]
  },
  {
   "cell_type": "code",
   "execution_count": 45,
   "id": "e8a4c846-faa9-4054-9efb-f71c3248d01e",
   "metadata": {},
   "outputs": [
    {
     "data": {
      "text/plain": [
       "category\n",
       "policy     2599\n",
       "service    2528\n",
       "claim      2458\n",
       "Name: count, dtype: int64"
      ]
     },
     "execution_count": 45,
     "metadata": {},
     "output_type": "execute_result"
    }
   ],
   "source": [
    "df['category'].value_counts()"
   ]
  },
  {
   "cell_type": "code",
   "execution_count": 47,
   "id": "b7e0bc6f-e6fd-4811-bcdd-87c3b6a894c6",
   "metadata": {},
   "outputs": [
    {
     "data": {
      "text/plain": [
       "sentiment\n",
       "negative    2581\n",
       "positive    2549\n",
       "neutral     2455\n",
       "Name: count, dtype: int64"
      ]
     },
     "execution_count": 47,
     "metadata": {},
     "output_type": "execute_result"
    }
   ],
   "source": [
    "df['sentiment'].value_counts()"
   ]
  },
  {
   "cell_type": "code",
   "execution_count": 49,
   "id": "1d5c115a-329d-4ac1-bfe4-54042b7b406b",
   "metadata": {},
   "outputs": [
    {
     "data": {
      "text/plain": [
       "feedback\n",
       "Had a good experience with this vehicle insurance company. The customer support team was knowledgeable and helpful. The premiums are competitive, and the coverage is good. Would recommend this company to friends and family.                                                                                                                                                                                                                                                                           4\n",
       "Recently renewed my policy with this vehicle insurance company, and the process was smooth. The customer support team was friendly and helpful. However, the communication could have been clearer, and the premiums could be lower. Overall, a decent experience.                                                                                                                                                                                                                                        4\n",
       "$ Ineffective policy terms caused anxiety and stress. @ Unclear communication from the insurance company led to feelings of frustration. # Disagreement with policy conditions resulted in a lost trust                                                                                                                                                                                                                                                                                                   4\n",
       "@ Policy conditions were not explained clearly, leading to misunderstandings. $ The insurance company failed to provide adequate support when issues arose. # Lack of transparency in policy terms resulted in distrust                                                                                                                                                                                                                                                                                   3\n",
       "@ The customer service at The Hartford was exceptional. The representative was helpful and knowledgeable.                                                                                                                                                                                                                                                                                                                                                                                                 3\n",
       "                                                                                                                                                                                                                                                                                                                                                                                                                                                                                                         ..\n",
       "##@ The policy terms are unclear, making it difficult to understand the coverage. The insurance company should provide a clear explanation of the policy terms to avoid confusion. $ The policy is unfavorable, and the premium rates are too high, causing financial burden. @ It's disappointing to see a company like this offer such a confusing and unfavourable policy. # The customer support team is unhelpful, making it hard to resolve issues with the policy.                                 1\n",
       "I was shocked to discover that the vehicle insurance policy terms were unclear and unfavorable, causing me to feel confused and worried about my coverage. I had previously read the fine print and thought I understood what I was getting into, but it turned out that there were hidden clauses that would end up costing me a lot more than expected. I demand that the insurance company clarifies the policy terms and provides clear explanations to avoid any further misunderstandings. # @ $    1\n",
       "* The policy terms are filled with confusing language and unclear conditions, making it challenging for customers to understand what is covered and what is not.                                                                                                                                                                                                                                                                                                                                          1\n",
       "# The vehicle insurance policy terms are so unclear that it is difficult to make an informed decision about which policy to choose. This lack of transparency is a significant concern for customers.                                                                                                                                                                                                                                                                                                     1\n",
       "## Outstanding customer service at Triple AAA Insurance was unparalleled! I was impressed by their prompt and courteous responses to my inquiries, which greatly reduced my stress levels. The professionalism and empathy displayed by the staff made me feel valued as a customer.                                                                                                                                                                                                                      1\n",
       "Name: count, Length: 7475, dtype: int64"
      ]
     },
     "execution_count": 49,
     "metadata": {},
     "output_type": "execute_result"
    }
   ],
   "source": [
    "df['feedback'].value_counts()"
   ]
  },
  {
   "cell_type": "code",
   "execution_count": 27,
   "id": "608eb5be-a020-4bf2-b2cd-589f73f143cd",
   "metadata": {},
   "outputs": [],
   "source": [
    "#preprocessing\n",
    "from sklearn.preprocessing import LabelEncoder\n",
    "\n",
    "le = LabelEncoder()\n",
    "df['sentiment_label'] = le.fit_transform(df['sentiment'])\n"
   ]
  },
  {
   "cell_type": "code",
   "execution_count": 51,
   "id": "8b99ba75-c3f1-4498-88af-940816a8e4b7",
   "metadata": {},
   "outputs": [
    {
     "name": "stderr",
     "output_type": "stream",
     "text": [
      "[nltk_data] Downloading package stopwords to\n",
      "[nltk_data]     C:\\Users\\JEEVA\\AppData\\Roaming\\nltk_data...\n",
      "[nltk_data]   Package stopwords is already up-to-date!\n",
      "[nltk_data] Downloading package wordnet to\n",
      "[nltk_data]     C:\\Users\\JEEVA\\AppData\\Roaming\\nltk_data...\n",
      "[nltk_data]   Package wordnet is already up-to-date!\n"
     ]
    }
   ],
   "source": [
    "import re\n",
    "import nltk\n",
    "from nltk.corpus import stopwords\n",
    "from nltk.stem import WordNetLemmatizer\n",
    "\n",
    "nltk.download('stopwords')\n",
    "nltk.download('wordnet')\n",
    "\n",
    "stop_words = set(stopwords.words('english'))\n",
    "lemmatizer = WordNetLemmatizer()\n",
    "\n",
    "def clean_text(text):\n",
    "    text = text.lower()\n",
    "    text = re.sub(r'[^a-z\\s]', '', text)       # keep only alphabets\n",
    "    tokens = text.split()\n",
    "    tokens = [lemmatizer.lemmatize(word) for word in tokens if word not in stop_words]\n",
    "    return ' '.join(tokens)\n",
    "\n",
    "df['clean_feedback'] = df['feedback'].apply(clean_text)\n"
   ]
  },
  {
   "cell_type": "code",
   "execution_count": 59,
   "id": "47e68254-8548-442b-a758-f31fd41cf04a",
   "metadata": {},
   "outputs": [
    {
     "data": {
      "text/html": [
       "<div>\n",
       "<style scoped>\n",
       "    .dataframe tbody tr th:only-of-type {\n",
       "        vertical-align: middle;\n",
       "    }\n",
       "\n",
       "    .dataframe tbody tr th {\n",
       "        vertical-align: top;\n",
       "    }\n",
       "\n",
       "    .dataframe thead th {\n",
       "        text-align: right;\n",
       "    }\n",
       "</style>\n",
       "<table border=\"1\" class=\"dataframe\">\n",
       "  <thead>\n",
       "    <tr style=\"text-align: right;\">\n",
       "      <th></th>\n",
       "      <th>category</th>\n",
       "      <th>sentiment</th>\n",
       "      <th>clean_feedback</th>\n",
       "    </tr>\n",
       "  </thead>\n",
       "  <tbody>\n",
       "    <tr>\n",
       "      <th>0</th>\n",
       "      <td>claim</td>\n",
       "      <td>negative</td>\n",
       "      <td>im extremely disappointed lengthy unsatisfacto...</td>\n",
       "    </tr>\n",
       "    <tr>\n",
       "      <th>1</th>\n",
       "      <td>claim</td>\n",
       "      <td>negative</td>\n",
       "      <td>inefficient communication lack transparency th...</td>\n",
       "    </tr>\n",
       "    <tr>\n",
       "      <th>2</th>\n",
       "      <td>claim</td>\n",
       "      <td>negative</td>\n",
       "      <td>recently terrible experience vehicle insurance...</td>\n",
       "    </tr>\n",
       "    <tr>\n",
       "      <th>3</th>\n",
       "      <td>claim</td>\n",
       "      <td>negative</td>\n",
       "      <td>extremely dissatisfied vehicle insurance claim...</td>\n",
       "    </tr>\n",
       "    <tr>\n",
       "      <th>4</th>\n",
       "      <td>claim</td>\n",
       "      <td>negative</td>\n",
       "      <td>poor communication throughout entire process u...</td>\n",
       "    </tr>\n",
       "  </tbody>\n",
       "</table>\n",
       "</div>"
      ],
      "text/plain": [
       "  category sentiment                                     clean_feedback\n",
       "0    claim  negative  im extremely disappointed lengthy unsatisfacto...\n",
       "1    claim  negative  inefficient communication lack transparency th...\n",
       "2    claim  negative  recently terrible experience vehicle insurance...\n",
       "3    claim  negative  extremely dissatisfied vehicle insurance claim...\n",
       "4    claim  negative  poor communication throughout entire process u..."
      ]
     },
     "execution_count": 59,
     "metadata": {},
     "output_type": "execute_result"
    }
   ],
   "source": [
    "#drop feedback column\n",
    "df = df.drop(columns=['feedback'])\n",
    "df.head()"
   ]
  },
  {
   "cell_type": "code",
   "execution_count": 63,
   "id": "96193999-da45-4cb5-be2c-1d176082fe27",
   "metadata": {},
   "outputs": [],
   "source": [
    "#export cleaned dataset\n",
    "import pandas as pd\n",
    "df.to_csv(r\"D:\\Jeeva\\ds_course\\insurance_final_project\\data\\cleaned_data\\sentiment_cleaned_data.csv\",index=False)"
   ]
  },
  {
   "cell_type": "code",
   "execution_count": null,
   "id": "b47a7764-ce12-461a-a2c2-075423d409a5",
   "metadata": {},
   "outputs": [],
   "source": []
  }
 ],
 "metadata": {
  "kernelspec": {
   "display_name": "Python [conda env:base] *",
   "language": "python",
   "name": "conda-base-py"
  },
  "language_info": {
   "codemirror_mode": {
    "name": "ipython",
    "version": 3
   },
   "file_extension": ".py",
   "mimetype": "text/x-python",
   "name": "python",
   "nbconvert_exporter": "python",
   "pygments_lexer": "ipython3",
   "version": "3.12.7"
  }
 },
 "nbformat": 4,
 "nbformat_minor": 5
}
