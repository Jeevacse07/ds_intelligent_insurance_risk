{
 "cells": [
  {
   "cell_type": "code",
   "execution_count": 1,
   "id": "5d6a0d51-7b5d-40b2-bbc3-b135ceed5155",
   "metadata": {},
   "outputs": [
    {
     "data": {
      "application/vnd.jupyter.widget-view+json": {
       "model_id": "17b6d9905c1a4b3cb0f2144f693414b1",
       "version_major": 2,
       "version_minor": 0
      },
      "text/plain": [
       "tokenizer_config.json:   0%|          | 0.00/298 [00:00<?, ?B/s]"
      ]
     },
     "metadata": {},
     "output_type": "display_data"
    },
    {
     "name": "stderr",
     "output_type": "stream",
     "text": [
      "C:\\Users\\JEEVA\\anaconda3\\Lib\\site-packages\\huggingface_hub\\file_download.py:143: UserWarning: `huggingface_hub` cache-system uses symlinks by default to efficiently store duplicated files but your machine does not support them in C:\\Users\\JEEVA\\.cache\\huggingface\\hub\\models--facebook--m2m100_418M. Caching files will still work but in a degraded version that might require more space on your disk. This warning can be disabled by setting the `HF_HUB_DISABLE_SYMLINKS_WARNING` environment variable. For more details, see https://huggingface.co/docs/huggingface_hub/how-to-cache#limitations.\n",
      "To support symlinks on Windows, you either need to activate Developer Mode or to run Python as an administrator. In order to activate developer mode, see this article: https://docs.microsoft.com/en-us/windows/apps/get-started/enable-your-device-for-development\n",
      "  warnings.warn(message)\n"
     ]
    },
    {
     "data": {
      "application/vnd.jupyter.widget-view+json": {
       "model_id": "7ccac55a59ef40b7866fe60f0cabfd83",
       "version_major": 2,
       "version_minor": 0
      },
      "text/plain": [
       "config.json:   0%|          | 0.00/908 [00:00<?, ?B/s]"
      ]
     },
     "metadata": {},
     "output_type": "display_data"
    },
    {
     "data": {
      "application/vnd.jupyter.widget-view+json": {
       "model_id": "fdd0951fd3d44807a7f55d3f9d4d0e65",
       "version_major": 2,
       "version_minor": 0
      },
      "text/plain": [
       "vocab.json: 0.00B [00:00, ?B/s]"
      ]
     },
     "metadata": {},
     "output_type": "display_data"
    },
    {
     "name": "stderr",
     "output_type": "stream",
     "text": [
      "Xet Storage is enabled for this repo, but the 'hf_xet' package is not installed. Falling back to regular HTTP download. For better performance, install the package with: `pip install huggingface_hub[hf_xet]` or `pip install hf_xet`\n"
     ]
    },
    {
     "data": {
      "application/vnd.jupyter.widget-view+json": {
       "model_id": "d23482f8a0e348bfbf78ecf3af713c16",
       "version_major": 2,
       "version_minor": 0
      },
      "text/plain": [
       "sentencepiece.bpe.model:   0%|          | 0.00/2.42M [00:00<?, ?B/s]"
      ]
     },
     "metadata": {},
     "output_type": "display_data"
    },
    {
     "data": {
      "application/vnd.jupyter.widget-view+json": {
       "model_id": "ed2406a518cb49ed8dab1c381f0d9133",
       "version_major": 2,
       "version_minor": 0
      },
      "text/plain": [
       "special_tokens_map.json: 0.00B [00:00, ?B/s]"
      ]
     },
     "metadata": {},
     "output_type": "display_data"
    },
    {
     "name": "stderr",
     "output_type": "stream",
     "text": [
      "Xet Storage is enabled for this repo, but the 'hf_xet' package is not installed. Falling back to regular HTTP download. For better performance, install the package with: `pip install huggingface_hub[hf_xet]` or `pip install hf_xet`\n"
     ]
    },
    {
     "data": {
      "application/vnd.jupyter.widget-view+json": {
       "model_id": "045fd349ffa94fbdbe433ba7b13bcd79",
       "version_major": 2,
       "version_minor": 0
      },
      "text/plain": [
       "pytorch_model.bin:   0%|          | 0.00/1.94G [00:00<?, ?B/s]"
      ]
     },
     "metadata": {},
     "output_type": "display_data"
    },
    {
     "name": "stderr",
     "output_type": "stream",
     "text": [
      "Xet Storage is enabled for this repo, but the 'hf_xet' package is not installed. Falling back to regular HTTP download. For better performance, install the package with: `pip install huggingface_hub[hf_xet]` or `pip install hf_xet`\n"
     ]
    },
    {
     "data": {
      "application/vnd.jupyter.widget-view+json": {
       "model_id": "cd73d92e48d14d6e81cb0df034b51a15",
       "version_major": 2,
       "version_minor": 0
      },
      "text/plain": [
       "model.safetensors:   0%|          | 0.00/1.94G [00:00<?, ?B/s]"
      ]
     },
     "metadata": {},
     "output_type": "display_data"
    },
    {
     "data": {
      "application/vnd.jupyter.widget-view+json": {
       "model_id": "920aa414895648c6bc90a627c1199596",
       "version_major": 2,
       "version_minor": 0
      },
      "text/plain": [
       "generation_config.json:   0%|          | 0.00/233 [00:00<?, ?B/s]"
      ]
     },
     "metadata": {},
     "output_type": "display_data"
    },
    {
     "name": "stdout",
     "output_type": "stream",
     "text": [
      "Translation completed for Tamil, French, Spanish.\n"
     ]
    }
   ],
   "source": [
    "# Install required packages if not installed\n",
    "# pip install transformers torch sentencepiece python-docx PyPDF2\n",
    "\n",
    "import torch\n",
    "from transformers import AutoTokenizer, AutoModelForSeq2SeqLM\n",
    "from docx import Document\n",
    "import PyPDF2\n",
    "\n",
    "# -------------------------------\n",
    "# Step 1: Load multilingual model once\n",
    "# -------------------------------\n",
    "model_name = \"facebook/m2m100_418M\"\n",
    "tokenizer = AutoTokenizer.from_pretrained(model_name)\n",
    "model = AutoModelForSeq2SeqLM.from_pretrained(model_name)\n",
    "\n",
    "# Detect GPU\n",
    "device = torch.device(\"cuda\" if torch.cuda.is_available() else \"cpu\")\n",
    "model.to(device)\n",
    "\n",
    "# -------------------------------\n",
    "# Step 2: Document reading functions\n",
    "# -------------------------------\n",
    "def read_docx(file_path):\n",
    "    doc = Document(file_path)\n",
    "    return [para.text.strip() for para in doc.paragraphs if para.text.strip()]\n",
    "\n",
    "def read_pdf(file_path):\n",
    "    pdf_reader = PyPDF2.PdfReader(file_path)\n",
    "    texts = []\n",
    "    for page in pdf_reader.pages:\n",
    "        texts.append(page.extract_text())\n",
    "    return [t.strip() for t in texts if t.strip()]\n",
    "\n",
    "def read_txt(file_path):\n",
    "    with open(file_path, \"r\", encoding=\"utf-8\") as f:\n",
    "        return [line.strip() for line in f if line.strip()]\n",
    "\n",
    "# -------------------------------\n",
    "# Step 3: Batch translation function\n",
    "# -------------------------------\n",
    "def translate_batch(texts, target_lang=\"ta\", batch_size=8):\n",
    "    tokenizer.src_lang = \"en\"  # Assuming source is English\n",
    "    translated_texts = []\n",
    "\n",
    "    # Process in batches\n",
    "    for i in range(0, len(texts), batch_size):\n",
    "        batch = texts[i:i+batch_size]\n",
    "        inputs = tokenizer(batch, return_tensors=\"pt\", padding=True, truncation=True, max_length=512).to(device)\n",
    "        generated_tokens = model.generate(\n",
    "            **inputs,\n",
    "            forced_bos_token_id=tokenizer.get_lang_id(target_lang),\n",
    "            max_length=600\n",
    "        )\n",
    "        translations = tokenizer.batch_decode(generated_tokens, skip_special_tokens=True)\n",
    "        translated_texts.extend(translations)\n",
    "    return translated_texts\n",
    "\n",
    "# -------------------------------\n",
    "# Step 4: Translate entire document\n",
    "# -------------------------------\n",
    "def translate_document(file_path, target_languages=[\"ta\", \"fr\", \"es\"], file_type=\"docx\"):\n",
    "    # Step 4a: Read document\n",
    "    if file_type == \"docx\":\n",
    "        texts = read_docx(file_path)\n",
    "    elif file_type == \"pdf\":\n",
    "        texts = read_pdf(file_path)\n",
    "    elif file_type == \"txt\":\n",
    "        texts = read_txt(file_path)\n",
    "    else:\n",
    "        raise ValueError(\"Unsupported file type\")\n",
    "\n",
    "    # Step 4b: Translate per language\n",
    "    translated_docs = {}\n",
    "    for lang in target_languages:\n",
    "        translated_docs[lang] = translate_batch(texts, target_lang=lang)\n",
    "    return translated_docs\n",
    "\n",
    "# -------------------------------\n",
    "# Step 5: Save translated documents (Optional)\n",
    "# -------------------------------\n",
    "def save_translations(translations, output_prefix=\"translated_doc\"):\n",
    "    for lang, texts in translations.items():\n",
    "        doc = Document()\n",
    "        for para in texts:\n",
    "            doc.add_paragraph(para)\n",
    "        doc.save(f\"{output_prefix}_{lang}.docx\")\n",
    "\n",
    "# -------------------------------\n",
    "# Example Usage\n",
    "# -------------------------------\n",
    "if __name__ == \"__main__\":\n",
    "    file_path = \"insu_doc.docx\"  # Replace with your file\n",
    "    translations = translate_document(file_path, target_languages=[\"ta\", \"fr\", \"es\"], file_type=\"docx\")\n",
    "    save_translations(translations, output_prefix=\"insurance_translated\")\n",
    "    print(\"Translation completed for Tamil, French, Spanish.\")\n"
   ]
  },
  {
   "cell_type": "code",
   "execution_count": null,
   "id": "487eb2c1-c217-4fe0-a82b-eff47f1adcfe",
   "metadata": {},
   "outputs": [],
   "source": []
  }
 ],
 "metadata": {
  "kernelspec": {
   "display_name": "Python [conda env:base] *",
   "language": "python",
   "name": "conda-base-py"
  },
  "language_info": {
   "codemirror_mode": {
    "name": "ipython",
    "version": 3
   },
   "file_extension": ".py",
   "mimetype": "text/x-python",
   "name": "python",
   "nbconvert_exporter": "python",
   "pygments_lexer": "ipython3",
   "version": "3.12.7"
  }
 },
 "nbformat": 4,
 "nbformat_minor": 5
}
