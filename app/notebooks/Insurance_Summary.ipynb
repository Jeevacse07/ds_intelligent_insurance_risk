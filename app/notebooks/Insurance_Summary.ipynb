{
 "cells": [
  {
   "cell_type": "code",
   "execution_count": 19,
   "id": "3fed2bec-4708-46c4-a68f-3e45a6974ff3",
   "metadata": {},
   "outputs": [
    {
     "name": "stderr",
     "output_type": "stream",
     "text": [
      "Device set to use cpu\n"
     ]
    },
    {
     "name": "stdout",
     "output_type": "stream",
     "text": [
      "----- Extractive Summary -----\n",
      " HDFC Life Click 2 Protect Supreme A NonLinked, NonParticipating, Individual, Pure Risk Premium Savings Life Insurance Plan Securing your familys financial wellbeing is more crucial than ever. Thats why HDFC Life Click 2 Protect Supreme is designed to offer comprehensive financial protection for your whole family. This term plan adapts to your evolving lifestyle and life stage needs, ensuring that you and your loved ones remain truly protected. Key Features Eligibility  Option to choose a cover which fits your needs from 3 plan options  Get back all premiums paid on survival till maturity with Return of Premium  option  Additional amount payable in case of accidental death during policy term  Provides Acceleration of Death benefit on diagnosis of specified terminal illnesses, till age 80 years. Option to choose increasing Death Benefit up to 200 under Life option B  C variants  Option to vary your Death Benefit according to your need under Life Goal option  Waiver of Premium on diagnosis of Critical Illness through WOP CI option  Waiver of Premium on Total and Permanent Disability through WOP Disability option  Option to choose Additional Cover for Spouse  Option to receive Death Benefit in Instalments  Option to financially protect your parents  grandparents till their survival under Parent Secure Option  Option to receive the Death Benefit as lump sum followed by regular payouts through Parent Protect Care Available under Life  Life Plus plan options Available under Life Plus plan option Available under Life plan option Plan Option Life Life Plus Life Goal Min. Age at Entry 18 years Max. Age at Entry 84 years 65 years Min. Age at Maturity 18 years 23 years Max. Age at Maturity 85 years Min. Policy Single Pay 1 month Term Regular Pay 2 years Single Pay 5 years Limited Pay 3 years Limited Pay 7 years HDFC Life Click 2 Protect Supreme A NonLinked, NonParticipating, Individual, Pure Risk Premium Savings Life Insurance Plan 1 Plan Option Life Life Plus Life Goal Max. Policy Term 85 years  Age at Entry Min. Basic Sum INR 10,000 Assured Max. Basic For Entry age  65 years INR 50,000 Sum Assured For all other cases There is no maximum limit. However, the acceptance of any case is subject to Board Approved Underwriting Policy BAUP. Premium Payment Term Option  PPT Life Life Plus Life Goal Regular Pay Yes No Single Pay\n",
      "\n",
      "----- Abstractive Summary -----\n",
      " HDFC Life Click 2 Protect Supreme is designed to offer comprehensive financial protection for your whole family. This term plan adapts to your evolving lifestyle and life stage needs. It provides Acceleration of Death benefit on diagnosis of specified terminal illnesses, till age 80 years.\n"
     ]
    }
   ],
   "source": [
    "import fitz  # PyMuPDF for PDFs\n",
    "from docx import Document  # python-docx for DOCX\n",
    "import re\n",
    "from summa.summarizer import summarize\n",
    "from transformers import pipeline\n",
    "\n",
    "def chunk_text(text, max_sentences=50):\n",
    "    \"\"\"Split text into chunks using regex-based sentence splitting.\"\"\"\n",
    "    sentences = re.split(r'(?<=[.!?]) +', text)\n",
    "    chunks = [' '.join(sentences[i:i+max_sentences]) for i in range(0, len(sentences), max_sentences)]\n",
    "    return chunks\n",
    "\n",
    "def extract_text(file_path):\n",
    "    \"\"\"Extract text from PDF or DOCX based on file extension.\"\"\"\n",
    "    if file_path.lower().endswith('.pdf'):\n",
    "        doc = fitz.open(file_path)\n",
    "        text = \"\".join([page.get_text() for page in doc])\n",
    "    elif file_path.lower().endswith('.docx'):\n",
    "        doc = Document(file_path)\n",
    "        text = \"\\n\".join([para.text for para in doc.paragraphs])\n",
    "    else:\n",
    "        raise ValueError(\"Unsupported file format. Only PDF and DOCX are supported.\")\n",
    "    return text\n",
    "\n",
    "def summarize_insurance_doc(file_path, extract_ratio=0.1, max_abs_len=200, min_abs_len=50, chunk_size=50):\n",
    "    # Step 1: Extract text\n",
    "    text = extract_text(file_path)\n",
    "    \n",
    "    # Step 2: Clean text (preserve sentence boundaries)\n",
    "    text = re.sub(r'\\s+', ' ', text)  # normalize whitespace\n",
    "    text = re.sub(r'[^a-zA-Z0-9.,!? ]', '', text)  # keep punctuation for sentence detection\n",
    "    \n",
    "    # Step 3: Chunk text\n",
    "    text_chunks = chunk_text(text, max_sentences=chunk_size)\n",
    "    \n",
    "    # Step 4: Extractive summarization with fallback for short text\n",
    "    extractive_summary_chunks = []\n",
    "    for chunk in text_chunks:\n",
    "        summary = summarize(chunk, ratio=extract_ratio)\n",
    "        if not summary.strip():  # fallback for short chunks\n",
    "            summary = chunk\n",
    "        extractive_summary_chunks.append(summary)\n",
    "    extractive_summary = ' '.join(extractive_summary_chunks)\n",
    "    \n",
    "    # Step 5: Abstractive summarization\n",
    "    abstractive_summarizer = pipeline(\"summarization\", model=\"facebook/bart-large-cnn\")\n",
    "    abs_chunks = chunk_text(extractive_summary, max_sentences=20)\n",
    "    abstractive_summary_list = [\n",
    "        abstractive_summarizer(chunk, max_length=max_abs_len, min_length=min_abs_len, do_sample=False)[0]['summary_text']\n",
    "        for chunk in abs_chunks\n",
    "    ]\n",
    "    abstractive_summary = ' '.join(abstractive_summary_list)\n",
    "    \n",
    "    return extractive_summary, abstractive_summary\n",
    "\n",
    "# Example usage\n",
    "file_path = \"insu_doc.docx\"  # Can be .pdf or .docx\n",
    "extractive, abstractive = summarize_insurance_doc(file_path)\n",
    "\n",
    "print(\"----- Extractive Summary -----\\n\", extractive)\n",
    "print(\"\\n----- Abstractive Summary -----\\n\", abstractive)\n"
   ]
  },
  {
   "cell_type": "code",
   "execution_count": null,
   "id": "a5171fe9-8855-43c5-81ed-97f05e4d6ea9",
   "metadata": {},
   "outputs": [],
   "source": []
  }
 ],
 "metadata": {
  "kernelspec": {
   "display_name": "Python [conda env:base] *",
   "language": "python",
   "name": "conda-base-py"
  },
  "language_info": {
   "codemirror_mode": {
    "name": "ipython",
    "version": 3
   },
   "file_extension": ".py",
   "mimetype": "text/x-python",
   "name": "python",
   "nbconvert_exporter": "python",
   "pygments_lexer": "ipython3",
   "version": "3.12.7"
  }
 },
 "nbformat": 4,
 "nbformat_minor": 5
}
