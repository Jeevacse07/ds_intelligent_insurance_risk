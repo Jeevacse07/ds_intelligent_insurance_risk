{
 "cells": [
  {
   "cell_type": "code",
   "execution_count": 3,
   "id": "5d78e04a-d91c-419e-8ee9-b8e99411226c",
   "metadata": {},
   "outputs": [
    {
     "data": {
      "text/plain": [
       "Index(['claim_id', 'customer_id', 'incident_cause', 'claim_date', 'claim_area',\n",
       "       'police_report', 'claim_type', 'claim_amount', 'total_policy_claims',\n",
       "       'fraudulent'],\n",
       "      dtype='object')"
      ]
     },
     "execution_count": 3,
     "metadata": {},
     "output_type": "execute_result"
    }
   ],
   "source": [
    "import pandas as pd\n",
    "\n",
    "#load data from dataset\n",
    "idf = pd.read_csv(r\"D:\\Jeeva\\ds_course\\insurance_final_project\\data\\raw_data\\insurance_claims.csv\") \n",
    "idf.head()\n",
    "idf.columns"
   ]
  },
  {
   "cell_type": "code",
   "execution_count": 65,
   "id": "fa2356ee-bc8e-4824-8af9-07cbc0bc033b",
   "metadata": {},
   "outputs": [
    {
     "data": {
      "text/plain": [
       "claim_id                0\n",
       "customer_id             0\n",
       "incident_cause          0\n",
       "claim_date              0\n",
       "claim_area              0\n",
       "police_report           0\n",
       "claim_type              0\n",
       "claim_amount           65\n",
       "total_policy_claims    10\n",
       "fraudulent              0\n",
       "dtype: int64"
      ]
     },
     "execution_count": 65,
     "metadata": {},
     "output_type": "execute_result"
    }
   ],
   "source": [
    "#check for null values\n",
    "idf.isnull().sum()"
   ]
  },
  {
   "cell_type": "code",
   "execution_count": 67,
   "id": "40d0a792-b2d2-4d79-9a9a-60a13d7af903",
   "metadata": {},
   "outputs": [
    {
     "name": "stdout",
     "output_type": "stream",
     "text": [
      "<class 'pandas.core.frame.DataFrame'>\n",
      "RangeIndex: 1100 entries, 0 to 1099\n",
      "Data columns (total 10 columns):\n",
      " #   Column               Non-Null Count  Dtype  \n",
      "---  ------               --------------  -----  \n",
      " 0   claim_id             1100 non-null   int64  \n",
      " 1   customer_id          1100 non-null   int64  \n",
      " 2   incident_cause       1100 non-null   object \n",
      " 3   claim_date           1100 non-null   object \n",
      " 4   claim_area           1100 non-null   object \n",
      " 5   police_report        1100 non-null   object \n",
      " 6   claim_type           1100 non-null   object \n",
      " 7   claim_amount         1035 non-null   object \n",
      " 8   total_policy_claims  1090 non-null   float64\n",
      " 9   fraudulent           1100 non-null   object \n",
      "dtypes: float64(1), int64(2), object(7)\n",
      "memory usage: 86.1+ KB\n"
     ]
    }
   ],
   "source": [
    "#replace null values\n",
    "idf.info()"
   ]
  },
  {
   "cell_type": "code",
   "execution_count": 69,
   "id": "815ef998-65fc-4386-9ebc-e8b5d3254ba3",
   "metadata": {},
   "outputs": [
    {
     "name": "stdout",
     "output_type": "stream",
     "text": [
      "<class 'pandas.core.frame.DataFrame'>\n",
      "Index: 1035 entries, 0 to 1099\n",
      "Data columns (total 10 columns):\n",
      " #   Column               Non-Null Count  Dtype  \n",
      "---  ------               --------------  -----  \n",
      " 0   claim_id             1035 non-null   int64  \n",
      " 1   customer_id          1035 non-null   int64  \n",
      " 2   incident_cause       1035 non-null   object \n",
      " 3   claim_date           1035 non-null   object \n",
      " 4   claim_area           1035 non-null   object \n",
      " 5   police_report        1035 non-null   object \n",
      " 6   claim_type           1035 non-null   object \n",
      " 7   claim_amount         1035 non-null   object \n",
      " 8   total_policy_claims  1026 non-null   float64\n",
      " 9   fraudulent           1035 non-null   object \n",
      "dtypes: float64(1), int64(2), object(7)\n",
      "memory usage: 88.9+ KB\n"
     ]
    }
   ],
   "source": [
    "#dropping rows where claim amount is  nan since we are using claim amount to be trained\n",
    "idf_clean = idf.dropna(subset=\"claim_amount\")\n",
    "idf_clean.info()"
   ]
  },
  {
   "cell_type": "code",
   "execution_count": 71,
   "id": "5c889e3a-12d8-41f8-a936-b62c624c7706",
   "metadata": {},
   "outputs": [
    {
     "name": "stdout",
     "output_type": "stream",
     "text": [
      "               claim_type      incident_cause  total_policy_claims\n",
      "29            Injury only      Natural causes                  1.0\n",
      "281         Material only  Other driver error                  1.0\n",
      "365         Material only        Other causes                  1.0\n",
      "450           Injury only  Other driver error                  1.0\n",
      "458   Material and injury  Other driver error                  1.0\n",
      "468         Material only        Driver error                  1.0\n",
      "489           Injury only  Other driver error                  1.0\n",
      "732         Material only        Other causes                  1.0\n",
      "1042        Material only  Other driver error                  1.0\n"
     ]
    }
   ],
   "source": [
    "idf_clean = idf_clean.copy()\n",
    "# Before imputation, store the rows where total_policy_claims is NaN\n",
    "nan_rows = idf_clean['total_policy_claims'].isna()\n",
    "\n",
    "# Apply the imputation line\n",
    "idf_clean['total_policy_claims'] = idf_clean.groupby(['claim_type', 'incident_cause'])['total_policy_claims'].transform(lambda x: x.fillna(x.median()))\n",
    "\n",
    "# Now, show only the rows where originally total_policy_claims was NaN, with their new filled values\n",
    "filled_values = idf_clean.loc[nan_rows, ['claim_type', 'incident_cause', 'total_policy_claims']]\n",
    "\n",
    "print(filled_values)"
   ]
  },
  {
   "cell_type": "code",
   "execution_count": 61,
   "id": "6b28c277-4c36-43eb-9a9d-f8028374dbd9",
   "metadata": {},
   "outputs": [
    {
     "name": "stdout",
     "output_type": "stream",
     "text": [
      "<class 'pandas.core.frame.DataFrame'>\n",
      "Index: 1035 entries, 0 to 1099\n",
      "Data columns (total 10 columns):\n",
      " #   Column               Non-Null Count  Dtype  \n",
      "---  ------               --------------  -----  \n",
      " 0   claim_id             1035 non-null   int64  \n",
      " 1   customer_id          1035 non-null   int64  \n",
      " 2   incident_cause       1035 non-null   object \n",
      " 3   claim_date           1035 non-null   object \n",
      " 4   claim_area           1035 non-null   object \n",
      " 5   police_report        1035 non-null   object \n",
      " 6   claim_type           1035 non-null   object \n",
      " 7   claim_amount         1035 non-null   object \n",
      " 8   total_policy_claims  1035 non-null   float64\n",
      " 9   fraudulent           1035 non-null   object \n",
      "dtypes: float64(1), int64(2), object(7)\n",
      "memory usage: 88.9+ KB\n"
     ]
    }
   ],
   "source": [
    "idf_clean.info()"
   ]
  },
  {
   "cell_type": "code",
   "execution_count": 73,
   "id": "63446e24-dec5-479d-879e-bec1eb2fa7b1",
   "metadata": {},
   "outputs": [],
   "source": [
    "df_clean = idf_clean\n",
    "df_clean = df_clean.drop(columns=['claim_id','customer_id'])"
   ]
  },
  {
   "cell_type": "code",
   "execution_count": 75,
   "id": "97c84727-c437-40b9-a916-4e9ed8c03441",
   "metadata": {},
   "outputs": [
    {
     "data": {
      "text/html": [
       "<div>\n",
       "<style scoped>\n",
       "    .dataframe tbody tr th:only-of-type {\n",
       "        vertical-align: middle;\n",
       "    }\n",
       "\n",
       "    .dataframe tbody tr th {\n",
       "        vertical-align: top;\n",
       "    }\n",
       "\n",
       "    .dataframe thead th {\n",
       "        text-align: right;\n",
       "    }\n",
       "</style>\n",
       "<table border=\"1\" class=\"dataframe\">\n",
       "  <thead>\n",
       "    <tr style=\"text-align: right;\">\n",
       "      <th></th>\n",
       "      <th>incident_cause</th>\n",
       "      <th>claim_date</th>\n",
       "      <th>claim_area</th>\n",
       "      <th>police_report</th>\n",
       "      <th>claim_type</th>\n",
       "      <th>claim_amount</th>\n",
       "      <th>total_policy_claims</th>\n",
       "      <th>fraudulent</th>\n",
       "    </tr>\n",
       "  </thead>\n",
       "  <tbody>\n",
       "    <tr>\n",
       "      <th>0</th>\n",
       "      <td>Driver error</td>\n",
       "      <td>11/27/2017</td>\n",
       "      <td>Auto</td>\n",
       "      <td>No</td>\n",
       "      <td>Material only</td>\n",
       "      <td>$2980</td>\n",
       "      <td>1.0</td>\n",
       "      <td>No</td>\n",
       "    </tr>\n",
       "    <tr>\n",
       "      <th>1</th>\n",
       "      <td>Crime</td>\n",
       "      <td>10-03-2018</td>\n",
       "      <td>Home</td>\n",
       "      <td>Unknown</td>\n",
       "      <td>Material only</td>\n",
       "      <td>$2980</td>\n",
       "      <td>3.0</td>\n",
       "      <td>No</td>\n",
       "    </tr>\n",
       "    <tr>\n",
       "      <th>2</th>\n",
       "      <td>Other driver error</td>\n",
       "      <td>02-02-2018</td>\n",
       "      <td>Auto</td>\n",
       "      <td>No</td>\n",
       "      <td>Material only</td>\n",
       "      <td>$3369.5</td>\n",
       "      <td>1.0</td>\n",
       "      <td>Yes</td>\n",
       "    </tr>\n",
       "    <tr>\n",
       "      <th>3</th>\n",
       "      <td>Natural causes</td>\n",
       "      <td>06/17/2018</td>\n",
       "      <td>Auto</td>\n",
       "      <td>No</td>\n",
       "      <td>Material only</td>\n",
       "      <td>$1680</td>\n",
       "      <td>1.0</td>\n",
       "      <td>No</td>\n",
       "    </tr>\n",
       "    <tr>\n",
       "      <th>4</th>\n",
       "      <td>Crime</td>\n",
       "      <td>01/13/2018</td>\n",
       "      <td>Auto</td>\n",
       "      <td>No</td>\n",
       "      <td>Material only</td>\n",
       "      <td>$2680</td>\n",
       "      <td>1.0</td>\n",
       "      <td>No</td>\n",
       "    </tr>\n",
       "  </tbody>\n",
       "</table>\n",
       "</div>"
      ],
      "text/plain": [
       "       incident_cause  claim_date claim_area police_report     claim_type  \\\n",
       "0        Driver error  11/27/2017       Auto            No  Material only   \n",
       "1               Crime  10-03-2018       Home       Unknown  Material only   \n",
       "2  Other driver error  02-02-2018       Auto            No  Material only   \n",
       "3      Natural causes  06/17/2018       Auto            No  Material only   \n",
       "4               Crime  01/13/2018       Auto            No  Material only   \n",
       "\n",
       "  claim_amount  total_policy_claims fraudulent  \n",
       "0        $2980                  1.0         No  \n",
       "1        $2980                  3.0         No  \n",
       "2      $3369.5                  1.0        Yes  \n",
       "3        $1680                  1.0         No  \n",
       "4        $2680                  1.0         No  "
      ]
     },
     "execution_count": 75,
     "metadata": {},
     "output_type": "execute_result"
    }
   ],
   "source": [
    "df_clean.head()"
   ]
  },
  {
   "cell_type": "code",
   "execution_count": 77,
   "id": "ae440998-b4e5-42e4-b596-83df954f57a4",
   "metadata": {},
   "outputs": [
    {
     "data": {
      "text/plain": [
       "array(['Driver error', 'Crime', 'Other driver error', 'Natural causes',\n",
       "       'Other causes'], dtype=object)"
      ]
     },
     "execution_count": 77,
     "metadata": {},
     "output_type": "execute_result"
    }
   ],
   "source": [
    "df_clean['incident_cause'].unique()"
   ]
  },
  {
   "cell_type": "code",
   "execution_count": 79,
   "id": "5cc7bddd-af9f-46b7-85a7-a56e6e5ac0a7",
   "metadata": {},
   "outputs": [
    {
     "data": {
      "text/plain": [
       "incident_cause\n",
       "Other causes          270\n",
       "Driver error          246\n",
       "Other driver error    235\n",
       "Natural causes        179\n",
       "Crime                 105\n",
       "Name: count, dtype: int64"
      ]
     },
     "execution_count": 79,
     "metadata": {},
     "output_type": "execute_result"
    }
   ],
   "source": [
    "df_clean['incident_cause'].value_counts()"
   ]
  },
  {
   "cell_type": "code",
   "execution_count": 81,
   "id": "8441962d-c0f1-4263-ab7f-5064e23a1b6f",
   "metadata": {},
   "outputs": [
    {
     "data": {
      "text/plain": [
       "array(['11/27/2017', '10-03-2018', '02-02-2018', '06/17/2018',\n",
       "       '01/13/2018', '10-04-2017', '04-10-2018', '02/15/2018',\n",
       "       '07/22/2017', '12-10-2017', '04/24/2018', '09/19/2018',\n",
       "       '06-03-2018', '06/25/2017', '12/17/2017', '08/24/2017',\n",
       "       '05/29/2017', '09/14/2017', '04/25/2017', '12/24/2017',\n",
       "       '08-10-2018', '10/17/2017', '02-09-2018', '06/23/2018',\n",
       "       '03-01-2018', '10-10-2017', '05/21/2018', '07-01-2017',\n",
       "       '10/31/2017', '05/14/2018', '02/17/2017', '10-09-2018',\n",
       "       '04-12-2017', '07/27/2018', '02/23/2017', '08/31/2017',\n",
       "       '06/18/2017', '02/22/2018', '11/20/2017', '01/14/2017',\n",
       "       '02-10-2017', '04-04-2018', '08/16/2018', '03/29/2017',\n",
       "       '07/20/2018', '05/22/2017', '06-11-2017', '01/27/2017',\n",
       "       '07-08-2017', '08-03-2018', '06/30/2018', '11-06-2017',\n",
       "       '05/28/2018', '11/13/2017', '03-09-2017', '10/16/2018',\n",
       "       '12-03-2017', '03/21/2018', '01-01-2017', '03-02-2017',\n",
       "       '05-01-2018', '03/14/2018', '03-08-2018', '07/28/2017',\n",
       "       '10/23/2018', '09-12-2018', '03/16/2017', '09-07-2017',\n",
       "       '12/30/2017', '04/18/2017', '06-04-2017', '06-10-2018',\n",
       "       '01/26/2018', '01-06-2018', '05-07-2018', '07/15/2017',\n",
       "       '08/30/2018', '08-11-2017', '10/24/2017', '08/18/2017',\n",
       "       '02-03-2017', '09/20/2017', '01-07-2017', '01/21/2017',\n",
       "       '07-07-2018', '03/28/2018', '09/26/2018', '10/30/2018',\n",
       "       '05-09-2017', '09/27/2017', '07/14/2018', '04/17/2018',\n",
       "       '03/22/2017', '04-05-2017', '08-04-2017', '01/20/2018',\n",
       "       '08/23/2018', '05/15/2017', '09-06-2018', '05-02-2017'],\n",
       "      dtype=object)"
      ]
     },
     "execution_count": 81,
     "metadata": {},
     "output_type": "execute_result"
    }
   ],
   "source": [
    "df_clean['claim_date'].unique()"
   ]
  },
  {
   "cell_type": "code",
   "execution_count": 83,
   "id": "3155563d-233e-4a95-813f-75a0a2b06679",
   "metadata": {},
   "outputs": [
    {
     "data": {
      "text/plain": [
       "claim_area\n",
       "Auto    927\n",
       "Home    108\n",
       "Name: count, dtype: int64"
      ]
     },
     "execution_count": 83,
     "metadata": {},
     "output_type": "execute_result"
    }
   ],
   "source": [
    "df_clean['claim_area'].value_counts()"
   ]
  },
  {
   "cell_type": "code",
   "execution_count": 85,
   "id": "420b45de-0c67-4514-9b4b-96a60d4effd1",
   "metadata": {},
   "outputs": [
    {
     "data": {
      "text/plain": [
       "police_report\n",
       "No         587\n",
       "Unknown    284\n",
       "Yes        164\n",
       "Name: count, dtype: int64"
      ]
     },
     "execution_count": 85,
     "metadata": {},
     "output_type": "execute_result"
    }
   ],
   "source": [
    "df_clean['police_report'].value_counts()"
   ]
  },
  {
   "cell_type": "code",
   "execution_count": 87,
   "id": "e80b3946-9f3c-4f9c-9355-2213654f8453",
   "metadata": {},
   "outputs": [
    {
     "data": {
      "text/plain": [
       "claim_amount\n",
       "$2090       7\n",
       "$2070       7\n",
       "$1630       7\n",
       "$1860       7\n",
       "$2320       7\n",
       "           ..\n",
       "$40210      1\n",
       "$27002      1\n",
       "$33030      1\n",
       "$31498.5    1\n",
       "$36685      1\n",
       "Name: count, Length: 683, dtype: int64"
      ]
     },
     "execution_count": 87,
     "metadata": {},
     "output_type": "execute_result"
    }
   ],
   "source": [
    "df_clean['claim_amount'].value_counts()"
   ]
  },
  {
   "cell_type": "code",
   "execution_count": 89,
   "id": "5e7e2966-d8d2-49cb-b0b6-5d38601a0ee5",
   "metadata": {},
   "outputs": [
    {
     "data": {
      "text/plain": [
       "total_policy_claims\n",
       "1.0    753\n",
       "2.0    103\n",
       "3.0     83\n",
       "4.0     59\n",
       "5.0     25\n",
       "6.0      9\n",
       "7.0      2\n",
       "8.0      1\n",
       "Name: count, dtype: int64"
      ]
     },
     "execution_count": 89,
     "metadata": {},
     "output_type": "execute_result"
    }
   ],
   "source": [
    "df_clean['total_policy_claims'].value_counts()"
   ]
  },
  {
   "cell_type": "code",
   "execution_count": 91,
   "id": "d4e37fc4-cdad-4c17-8aa7-843d66863e80",
   "metadata": {},
   "outputs": [],
   "source": [
    "#clean date input and then convert it to day time format\n",
    "df_clean['claim_date'] = df_clean['claim_date'].str.replace('-', '/', regex=False)\n",
    "df_clean['claim_date'] = pd.to_datetime(df_clean['claim_date'],errors=\"coerce\",dayfirst=False)"
   ]
  },
  {
   "cell_type": "code",
   "execution_count": 93,
   "id": "ae51fa6a-d5d9-406b-9240-43553ede1770",
   "metadata": {},
   "outputs": [
    {
     "data": {
      "text/plain": [
       "<DatetimeArray>\n",
       "['2017-11-27 00:00:00', '2018-10-03 00:00:00', '2018-02-02 00:00:00',\n",
       " '2018-06-17 00:00:00', '2018-01-13 00:00:00', '2017-10-04 00:00:00',\n",
       " '2018-04-10 00:00:00', '2018-02-15 00:00:00', '2017-07-22 00:00:00',\n",
       " '2017-12-10 00:00:00', '2018-04-24 00:00:00', '2018-09-19 00:00:00',\n",
       " '2018-06-03 00:00:00', '2017-06-25 00:00:00', '2017-12-17 00:00:00',\n",
       " '2017-08-24 00:00:00', '2017-05-29 00:00:00', '2017-09-14 00:00:00',\n",
       " '2017-04-25 00:00:00', '2017-12-24 00:00:00', '2018-08-10 00:00:00',\n",
       " '2017-10-17 00:00:00', '2018-02-09 00:00:00', '2018-06-23 00:00:00',\n",
       " '2018-03-01 00:00:00', '2017-10-10 00:00:00', '2018-05-21 00:00:00',\n",
       " '2017-07-01 00:00:00', '2017-10-31 00:00:00', '2018-05-14 00:00:00',\n",
       " '2017-02-17 00:00:00', '2018-10-09 00:00:00', '2017-04-12 00:00:00',\n",
       " '2018-07-27 00:00:00', '2017-02-23 00:00:00', '2017-08-31 00:00:00',\n",
       " '2017-06-18 00:00:00', '2018-02-22 00:00:00', '2017-11-20 00:00:00',\n",
       " '2017-01-14 00:00:00', '2017-02-10 00:00:00', '2018-04-04 00:00:00',\n",
       " '2018-08-16 00:00:00', '2017-03-29 00:00:00', '2018-07-20 00:00:00',\n",
       " '2017-05-22 00:00:00', '2017-06-11 00:00:00', '2017-01-27 00:00:00',\n",
       " '2017-07-08 00:00:00', '2018-08-03 00:00:00', '2018-06-30 00:00:00',\n",
       " '2017-11-06 00:00:00', '2018-05-28 00:00:00', '2017-11-13 00:00:00',\n",
       " '2017-03-09 00:00:00', '2018-10-16 00:00:00', '2017-12-03 00:00:00',\n",
       " '2018-03-21 00:00:00', '2017-01-01 00:00:00', '2017-03-02 00:00:00',\n",
       " '2018-05-01 00:00:00', '2018-03-14 00:00:00', '2018-03-08 00:00:00',\n",
       " '2017-07-28 00:00:00', '2018-10-23 00:00:00', '2018-09-12 00:00:00',\n",
       " '2017-03-16 00:00:00', '2017-09-07 00:00:00', '2017-12-30 00:00:00',\n",
       " '2017-04-18 00:00:00', '2017-06-04 00:00:00', '2018-06-10 00:00:00',\n",
       " '2018-01-26 00:00:00', '2018-01-06 00:00:00', '2018-05-07 00:00:00',\n",
       " '2017-07-15 00:00:00', '2018-08-30 00:00:00', '2017-08-11 00:00:00',\n",
       " '2017-10-24 00:00:00', '2017-08-18 00:00:00', '2017-02-03 00:00:00',\n",
       " '2017-09-20 00:00:00', '2017-01-07 00:00:00', '2017-01-21 00:00:00',\n",
       " '2018-07-07 00:00:00', '2018-03-28 00:00:00', '2018-09-26 00:00:00',\n",
       " '2018-10-30 00:00:00', '2017-05-09 00:00:00', '2017-09-27 00:00:00',\n",
       " '2018-07-14 00:00:00', '2018-04-17 00:00:00', '2017-03-22 00:00:00',\n",
       " '2017-04-05 00:00:00', '2017-08-04 00:00:00', '2018-01-20 00:00:00',\n",
       " '2018-08-23 00:00:00', '2017-05-15 00:00:00', '2018-09-06 00:00:00',\n",
       " '2017-05-02 00:00:00']\n",
       "Length: 100, dtype: datetime64[ns]"
      ]
     },
     "execution_count": 93,
     "metadata": {},
     "output_type": "execute_result"
    }
   ],
   "source": [
    "df_clean['claim_date'].unique()"
   ]
  },
  {
   "cell_type": "code",
   "execution_count": 95,
   "id": "d6cd6458-9e37-4734-ab2d-c438aee3c2e1",
   "metadata": {},
   "outputs": [
    {
     "name": "stdout",
     "output_type": "stream",
     "text": [
      "<class 'pandas.core.frame.DataFrame'>\n",
      "Index: 1035 entries, 0 to 1099\n",
      "Data columns (total 8 columns):\n",
      " #   Column               Non-Null Count  Dtype         \n",
      "---  ------               --------------  -----         \n",
      " 0   incident_cause       1035 non-null   object        \n",
      " 1   claim_date           1035 non-null   datetime64[ns]\n",
      " 2   claim_area           1035 non-null   object        \n",
      " 3   police_report        1035 non-null   object        \n",
      " 4   claim_type           1035 non-null   object        \n",
      " 5   claim_amount         1035 non-null   object        \n",
      " 6   total_policy_claims  1035 non-null   float64       \n",
      " 7   fraudulent           1035 non-null   object        \n",
      "dtypes: datetime64[ns](1), float64(1), object(6)\n",
      "memory usage: 72.8+ KB\n"
     ]
    }
   ],
   "source": [
    "df_clean.info()"
   ]
  },
  {
   "cell_type": "code",
   "execution_count": 97,
   "id": "9687394f-6188-4e53-9b24-98aa647a03bb",
   "metadata": {},
   "outputs": [],
   "source": [
    " # Convert claim_amount from string to float\n",
    "df_clean['claim_amount'].head()\n",
    "df_clean['claim_amount'] = df_clean['claim_amount'].str.replace('$','').astype('float')"
   ]
  },
  {
   "cell_type": "code",
   "execution_count": 99,
   "id": "1fb6e63d-ed9c-41da-b306-9f8aa148127f",
   "metadata": {},
   "outputs": [
    {
     "data": {
      "text/plain": [
       "police_report\n",
       "No         587\n",
       "Unknown    284\n",
       "Yes        164\n",
       "Name: count, dtype: int64"
      ]
     },
     "execution_count": 99,
     "metadata": {},
     "output_type": "execute_result"
    }
   ],
   "source": [
    "df_clean['police_report'].value_counts()"
   ]
  },
  {
   "cell_type": "code",
   "execution_count": 101,
   "id": "8fa29b26-5dce-4538-8bdd-acf36db482db",
   "metadata": {},
   "outputs": [
    {
     "data": {
      "text/plain": [
       "police_report\n",
       "No         0.567150\n",
       "Unknown    0.274396\n",
       "Yes        0.158454\n",
       "Name: proportion, dtype: float64"
      ]
     },
     "execution_count": 101,
     "metadata": {},
     "output_type": "execute_result"
    }
   ],
   "source": [
    "df_clean['police_report'].value_counts(normalize=True)"
   ]
  },
  {
   "cell_type": "code",
   "execution_count": 103,
   "id": "ebcafa1d-210a-4420-bc30-58ec5c30009d",
   "metadata": {},
   "outputs": [
    {
     "data": {
      "text/plain": [
       "police_report  fraudulent\n",
       "No             No            0.759796\n",
       "               Yes           0.240204\n",
       "Unknown        No            0.721831\n",
       "               Yes           0.278169\n",
       "Yes            No            0.896341\n",
       "               Yes           0.103659\n",
       "Name: proportion, dtype: float64"
      ]
     },
     "execution_count": 103,
     "metadata": {},
     "output_type": "execute_result"
    }
   ],
   "source": [
    "df_clean.groupby('police_report')['claim_amount'].mean()\n",
    "df_clean.groupby('police_report')['fraudulent'].value_counts(normalize=True)"
   ]
  },
  {
   "cell_type": "code",
   "execution_count": 105,
   "id": "9dee9df5-d199-4070-9832-a77f67d8e80f",
   "metadata": {},
   "outputs": [],
   "source": [
    "#clean police report\n",
    "df_clean['police_report'] = df_clean['police_report'].map({'Yes': 1, 'No': 0, 'Unknown': 0})"
   ]
  },
  {
   "cell_type": "code",
   "execution_count": 107,
   "id": "5b45cf22-6e7a-4101-b2cc-491c2a08ee97",
   "metadata": {},
   "outputs": [
    {
     "name": "stdout",
     "output_type": "stream",
     "text": [
      "<class 'pandas.core.frame.DataFrame'>\n",
      "Index: 1035 entries, 0 to 1099\n",
      "Data columns (total 8 columns):\n",
      " #   Column               Non-Null Count  Dtype         \n",
      "---  ------               --------------  -----         \n",
      " 0   incident_cause       1035 non-null   object        \n",
      " 1   claim_date           1035 non-null   datetime64[ns]\n",
      " 2   claim_area           1035 non-null   object        \n",
      " 3   police_report        1035 non-null   int64         \n",
      " 4   claim_type           1035 non-null   object        \n",
      " 5   claim_amount         1035 non-null   float64       \n",
      " 6   total_policy_claims  1035 non-null   float64       \n",
      " 7   fraudulent           1035 non-null   object        \n",
      "dtypes: datetime64[ns](1), float64(2), int64(1), object(4)\n",
      "memory usage: 72.8+ KB\n"
     ]
    }
   ],
   "source": [
    "df_clean.info()"
   ]
  },
  {
   "cell_type": "code",
   "execution_count": 109,
   "id": "bfc34e87-f860-4407-8e2c-8c5ea440a392",
   "metadata": {},
   "outputs": [],
   "source": [
    "#export cleaned data\n",
    "df_clean.to_csv(r\"D:\\Jeeva\\ds_course\\insurance_final_project\\data\\cleaned_data\\insurance_claims_cleaned.csv\",index=False)"
   ]
  },
  {
   "cell_type": "code",
   "execution_count": 113,
   "id": "1bc79c56-fc88-4751-b095-c3ac5fd5fc95",
   "metadata": {},
   "outputs": [
    {
     "data": {
      "text/html": [
       "<div>\n",
       "<style scoped>\n",
       "    .dataframe tbody tr th:only-of-type {\n",
       "        vertical-align: middle;\n",
       "    }\n",
       "\n",
       "    .dataframe tbody tr th {\n",
       "        vertical-align: top;\n",
       "    }\n",
       "\n",
       "    .dataframe thead th {\n",
       "        text-align: right;\n",
       "    }\n",
       "</style>\n",
       "<table border=\"1\" class=\"dataframe\">\n",
       "  <thead>\n",
       "    <tr style=\"text-align: right;\">\n",
       "      <th></th>\n",
       "      <th>incident_cause</th>\n",
       "      <th>claim_date</th>\n",
       "      <th>claim_area</th>\n",
       "      <th>police_report</th>\n",
       "      <th>claim_type</th>\n",
       "      <th>claim_amount</th>\n",
       "      <th>total_policy_claims</th>\n",
       "      <th>fraudulent</th>\n",
       "    </tr>\n",
       "  </thead>\n",
       "  <tbody>\n",
       "    <tr>\n",
       "      <th>0</th>\n",
       "      <td>Driver error</td>\n",
       "      <td>2017-11-27</td>\n",
       "      <td>Auto</td>\n",
       "      <td>0</td>\n",
       "      <td>Material only</td>\n",
       "      <td>2980.0</td>\n",
       "      <td>1.0</td>\n",
       "      <td>No</td>\n",
       "    </tr>\n",
       "    <tr>\n",
       "      <th>1</th>\n",
       "      <td>Crime</td>\n",
       "      <td>2018-10-03</td>\n",
       "      <td>Home</td>\n",
       "      <td>0</td>\n",
       "      <td>Material only</td>\n",
       "      <td>2980.0</td>\n",
       "      <td>3.0</td>\n",
       "      <td>No</td>\n",
       "    </tr>\n",
       "    <tr>\n",
       "      <th>2</th>\n",
       "      <td>Other driver error</td>\n",
       "      <td>2018-02-02</td>\n",
       "      <td>Auto</td>\n",
       "      <td>0</td>\n",
       "      <td>Material only</td>\n",
       "      <td>3369.5</td>\n",
       "      <td>1.0</td>\n",
       "      <td>Yes</td>\n",
       "    </tr>\n",
       "    <tr>\n",
       "      <th>3</th>\n",
       "      <td>Natural causes</td>\n",
       "      <td>2018-06-17</td>\n",
       "      <td>Auto</td>\n",
       "      <td>0</td>\n",
       "      <td>Material only</td>\n",
       "      <td>1680.0</td>\n",
       "      <td>1.0</td>\n",
       "      <td>No</td>\n",
       "    </tr>\n",
       "    <tr>\n",
       "      <th>4</th>\n",
       "      <td>Crime</td>\n",
       "      <td>2018-01-13</td>\n",
       "      <td>Auto</td>\n",
       "      <td>0</td>\n",
       "      <td>Material only</td>\n",
       "      <td>2680.0</td>\n",
       "      <td>1.0</td>\n",
       "      <td>No</td>\n",
       "    </tr>\n",
       "  </tbody>\n",
       "</table>\n",
       "</div>"
      ],
      "text/plain": [
       "       incident_cause  claim_date claim_area  police_report     claim_type  \\\n",
       "0        Driver error  2017-11-27       Auto              0  Material only   \n",
       "1               Crime  2018-10-03       Home              0  Material only   \n",
       "2  Other driver error  2018-02-02       Auto              0  Material only   \n",
       "3      Natural causes  2018-06-17       Auto              0  Material only   \n",
       "4               Crime  2018-01-13       Auto              0  Material only   \n",
       "\n",
       "   claim_amount  total_policy_claims fraudulent  \n",
       "0        2980.0                  1.0         No  \n",
       "1        2980.0                  3.0         No  \n",
       "2        3369.5                  1.0        Yes  \n",
       "3        1680.0                  1.0         No  \n",
       "4        2680.0                  1.0         No  "
      ]
     },
     "execution_count": 113,
     "metadata": {},
     "output_type": "execute_result"
    }
   ],
   "source": [
    "import pandas as pd\n",
    "df_clean = pd.read_csv(r\"D:\\Jeeva\\ds_course\\insurance_final_project\\data\\cleaned_data\\insurance_claims_cleaned.csv\")\n",
    "df_clean.head()"
   ]
  },
  {
   "cell_type": "code",
   "execution_count": 115,
   "id": "261bdf4d-53c7-4815-8c7c-a2fedeb43a51",
   "metadata": {},
   "outputs": [
    {
     "name": "stdout",
     "output_type": "stream",
     "text": [
      "<class 'pandas.core.frame.DataFrame'>\n",
      "RangeIndex: 1035 entries, 0 to 1034\n",
      "Data columns (total 8 columns):\n",
      " #   Column               Non-Null Count  Dtype  \n",
      "---  ------               --------------  -----  \n",
      " 0   incident_cause       1035 non-null   object \n",
      " 1   claim_date           1035 non-null   object \n",
      " 2   claim_area           1035 non-null   object \n",
      " 3   police_report        1035 non-null   int64  \n",
      " 4   claim_type           1035 non-null   object \n",
      " 5   claim_amount         1035 non-null   float64\n",
      " 6   total_policy_claims  1035 non-null   float64\n",
      " 7   fraudulent           1035 non-null   object \n",
      "dtypes: float64(2), int64(1), object(5)\n",
      "memory usage: 64.8+ KB\n"
     ]
    }
   ],
   "source": [
    "df_clean.info()"
   ]
  },
  {
   "cell_type": "code",
   "execution_count": 117,
   "id": "8e5e6b0f-787e-4919-a19a-652d8113bed0",
   "metadata": {},
   "outputs": [
    {
     "data": {
      "text/plain": [
       "incident_cause\n",
       "Other causes          270\n",
       "Driver error          246\n",
       "Other driver error    235\n",
       "Natural causes        179\n",
       "Crime                 105\n",
       "Name: count, dtype: int64"
      ]
     },
     "execution_count": 117,
     "metadata": {},
     "output_type": "execute_result"
    }
   ],
   "source": [
    "df_clean['incident_cause'].value_counts()"
   ]
  },
  {
   "cell_type": "code",
   "execution_count": 119,
   "id": "ae93a654-3a8d-4902-a080-db6705cd507f",
   "metadata": {},
   "outputs": [
    {
     "data": {
      "text/plain": [
       "fraudulent\n",
       "No     798\n",
       "Yes    237\n",
       "Name: count, dtype: int64"
      ]
     },
     "execution_count": 119,
     "metadata": {},
     "output_type": "execute_result"
    }
   ],
   "source": [
    "df_clean['fraudulent'].value_counts()"
   ]
  },
  {
   "cell_type": "code",
   "execution_count": 121,
   "id": "d75408ea-6ebe-418a-a894-dc80e5ea3059",
   "metadata": {},
   "outputs": [
    {
     "data": {
      "text/plain": [
       "claim_area\n",
       "Auto    927\n",
       "Home    108\n",
       "Name: count, dtype: int64"
      ]
     },
     "execution_count": 121,
     "metadata": {},
     "output_type": "execute_result"
    }
   ],
   "source": [
    "df_clean['claim_area'].value_counts()"
   ]
  },
  {
   "cell_type": "code",
   "execution_count": 123,
   "id": "cd6abc74-f280-4e0e-a89c-dd48280334ad",
   "metadata": {},
   "outputs": [
    {
     "data": {
      "text/plain": [
       "claim_type\n",
       "Material only          620\n",
       "Material and injury    230\n",
       "Injury only            185\n",
       "Name: count, dtype: int64"
      ]
     },
     "execution_count": 123,
     "metadata": {},
     "output_type": "execute_result"
    }
   ],
   "source": [
    "df_clean['claim_type'].value_counts()"
   ]
  },
  {
   "cell_type": "code",
   "execution_count": 125,
   "id": "dc5da9ee-f8cc-4e5d-b382-25a4c8f00cd0",
   "metadata": {},
   "outputs": [],
   "source": [
    "# Encode the target column\n",
    "df_clean['fraudulent'] = df_clean['fraudulent'].map({'Yes': 1, 'No': 0})\n",
    "\n",
    "# One-Hot Encode categorical features (drop_first=True avoids multicollinearity)\n",
    "df_clean = pd.get_dummies(df_clean, columns=['incident_cause', 'claim_area', 'claim_type'], drop_first=True)\n"
   ]
  },
  {
   "cell_type": "code",
   "execution_count": 127,
   "id": "4cbfb368-c5cb-4254-8988-9d506b7cad5e",
   "metadata": {},
   "outputs": [
    {
     "name": "stdout",
     "output_type": "stream",
     "text": [
      "claim_date                            object\n",
      "police_report                          int64\n",
      "claim_amount                         float64\n",
      "total_policy_claims                  float64\n",
      "fraudulent                             int64\n",
      "incident_cause_Driver error             bool\n",
      "incident_cause_Natural causes           bool\n",
      "incident_cause_Other causes             bool\n",
      "incident_cause_Other driver error       bool\n",
      "claim_area_Home                         bool\n",
      "claim_type_Material and injury          bool\n",
      "claim_type_Material only                bool\n",
      "dtype: object\n",
      "   claim_date  police_report  claim_amount  total_policy_claims  fraudulent  \\\n",
      "0  2017-11-27              0        2980.0                  1.0           0   \n",
      "1  2018-10-03              0        2980.0                  3.0           0   \n",
      "2  2018-02-02              0        3369.5                  1.0           1   \n",
      "3  2018-06-17              0        1680.0                  1.0           0   \n",
      "4  2018-01-13              0        2680.0                  1.0           0   \n",
      "\n",
      "   incident_cause_Driver error  incident_cause_Natural causes  \\\n",
      "0                         True                          False   \n",
      "1                        False                          False   \n",
      "2                        False                          False   \n",
      "3                        False                           True   \n",
      "4                        False                          False   \n",
      "\n",
      "   incident_cause_Other causes  incident_cause_Other driver error  \\\n",
      "0                        False                              False   \n",
      "1                        False                              False   \n",
      "2                        False                               True   \n",
      "3                        False                              False   \n",
      "4                        False                              False   \n",
      "\n",
      "   claim_area_Home  claim_type_Material and injury  claim_type_Material only  \n",
      "0            False                           False                      True  \n",
      "1             True                           False                      True  \n",
      "2            False                           False                      True  \n",
      "3            False                           False                      True  \n",
      "4            False                           False                      True  \n"
     ]
    }
   ],
   "source": [
    "print(df_clean.dtypes)  # confirm all are numeric\n",
    "print(df_clean.head())  # visually confirm encoded columns"
   ]
  },
  {
   "cell_type": "code",
   "execution_count": 129,
   "id": "7a489eba-fb05-484b-b31b-1c101f1ea3f8",
   "metadata": {},
   "outputs": [],
   "source": [
    "# Clean column names: lowercase, replace spaces with underscores\n",
    "df_clean.columns = df_clean.columns.str.strip().str.lower().str.replace(' ', '_').str.replace('[^a-zA-Z0-9_]', '', regex=True)"
   ]
  },
  {
   "cell_type": "code",
   "execution_count": 131,
   "id": "7a08221f-35f9-4201-9316-1b5a4288c02d",
   "metadata": {},
   "outputs": [
    {
     "name": "stdout",
     "output_type": "stream",
     "text": [
      "claim_date                            object\n",
      "police_report                          int64\n",
      "claim_amount                         float64\n",
      "total_policy_claims                  float64\n",
      "fraudulent                             int64\n",
      "incident_cause_driver_error             bool\n",
      "incident_cause_natural_causes           bool\n",
      "incident_cause_other_causes             bool\n",
      "incident_cause_other_driver_error       bool\n",
      "claim_area_home                         bool\n",
      "claim_type_material_and_injury          bool\n",
      "claim_type_material_only                bool\n",
      "dtype: object\n",
      "   claim_date  police_report  claim_amount  total_policy_claims  fraudulent  \\\n",
      "0  2017-11-27              0        2980.0                  1.0           0   \n",
      "1  2018-10-03              0        2980.0                  3.0           0   \n",
      "2  2018-02-02              0        3369.5                  1.0           1   \n",
      "3  2018-06-17              0        1680.0                  1.0           0   \n",
      "4  2018-01-13              0        2680.0                  1.0           0   \n",
      "\n",
      "   incident_cause_driver_error  incident_cause_natural_causes  \\\n",
      "0                         True                          False   \n",
      "1                        False                          False   \n",
      "2                        False                          False   \n",
      "3                        False                           True   \n",
      "4                        False                          False   \n",
      "\n",
      "   incident_cause_other_causes  incident_cause_other_driver_error  \\\n",
      "0                        False                              False   \n",
      "1                        False                              False   \n",
      "2                        False                               True   \n",
      "3                        False                              False   \n",
      "4                        False                              False   \n",
      "\n",
      "   claim_area_home  claim_type_material_and_injury  claim_type_material_only  \n",
      "0            False                           False                      True  \n",
      "1             True                           False                      True  \n",
      "2            False                           False                      True  \n",
      "3            False                           False                      True  \n",
      "4            False                           False                      True  \n"
     ]
    }
   ],
   "source": [
    "print(df_clean.dtypes)  # confirm all are numeric\n",
    "print(df_clean.head())  # visually confirm encoded columns"
   ]
  },
  {
   "cell_type": "code",
   "execution_count": 133,
   "id": "72e5e5ef-d12f-40c5-b81e-ea3907509103",
   "metadata": {},
   "outputs": [
    {
     "name": "stdout",
     "output_type": "stream",
     "text": [
      "<class 'pandas.core.frame.DataFrame'>\n",
      "RangeIndex: 1035 entries, 0 to 1034\n",
      "Data columns (total 12 columns):\n",
      " #   Column                             Non-Null Count  Dtype  \n",
      "---  ------                             --------------  -----  \n",
      " 0   claim_date                         1035 non-null   object \n",
      " 1   police_report                      1035 non-null   int64  \n",
      " 2   claim_amount                       1035 non-null   float64\n",
      " 3   total_policy_claims                1035 non-null   float64\n",
      " 4   fraudulent                         1035 non-null   int64  \n",
      " 5   incident_cause_driver_error        1035 non-null   bool   \n",
      " 6   incident_cause_natural_causes      1035 non-null   bool   \n",
      " 7   incident_cause_other_causes        1035 non-null   bool   \n",
      " 8   incident_cause_other_driver_error  1035 non-null   bool   \n",
      " 9   claim_area_home                    1035 non-null   bool   \n",
      " 10  claim_type_material_and_injury     1035 non-null   bool   \n",
      " 11  claim_type_material_only           1035 non-null   bool   \n",
      "dtypes: bool(7), float64(2), int64(2), object(1)\n",
      "memory usage: 47.6+ KB\n"
     ]
    }
   ],
   "source": [
    "df_clean.info()"
   ]
  },
  {
   "cell_type": "code",
   "execution_count": 135,
   "id": "e35ba3af-cd1d-4a54-98d7-b28de0fe6e9f",
   "metadata": {},
   "outputs": [],
   "source": [
    "# convert to datetime\n",
    "df_clean['claim_date'] = pd.to_datetime(df_clean['claim_date'], errors='coerce')"
   ]
  },
  {
   "cell_type": "code",
   "execution_count": 137,
   "id": "3d4d7aa6-1122-4a35-801c-04b64e203b2d",
   "metadata": {},
   "outputs": [
    {
     "data": {
      "text/plain": [
       "0"
      ]
     },
     "execution_count": 137,
     "metadata": {},
     "output_type": "execute_result"
    }
   ],
   "source": [
    "#checking null in claim-date after conversion\n",
    "df_clean['claim_date'].isnull().sum()"
   ]
  },
  {
   "cell_type": "code",
   "execution_count": 139,
   "id": "cf33e8ec-3628-4b57-b8c7-e6ada87effd7",
   "metadata": {},
   "outputs": [],
   "source": [
    "# Extract date features\n",
    "df_clean['claim_year'] = df_clean['claim_date'].dt.year\n",
    "df_clean['claim_month'] = df_clean['claim_date'].dt.month\n",
    "df_clean['claim_day'] = df_clean['claim_date'].dt.day\n"
   ]
  },
  {
   "cell_type": "code",
   "execution_count": 141,
   "id": "2fb85cb2-c077-4ae4-805d-5d6bfb04046b",
   "metadata": {},
   "outputs": [],
   "source": [
    "#drop claim date\n",
    "df_clean.drop(columns=['claim_date'], inplace=True)"
   ]
  },
  {
   "cell_type": "code",
   "execution_count": 153,
   "id": "2708e2b2-b71a-475d-9089-eb2bfaa70585",
   "metadata": {},
   "outputs": [],
   "source": [
    "# export cleaned DataFrame\n",
    "df_clean.to_csv(r\"D:\\Jeeva\\ds_course\\insurance_final_project\\data\\cleaned_data\\cleaned_insurance_data.csv\", index=False)"
   ]
  },
  {
   "cell_type": "code",
   "execution_count": 155,
   "id": "db03dc61-c137-4c07-b43e-22dca2915c7b",
   "metadata": {},
   "outputs": [
    {
     "data": {
      "text/html": [
       "<div>\n",
       "<style scoped>\n",
       "    .dataframe tbody tr th:only-of-type {\n",
       "        vertical-align: middle;\n",
       "    }\n",
       "\n",
       "    .dataframe tbody tr th {\n",
       "        vertical-align: top;\n",
       "    }\n",
       "\n",
       "    .dataframe thead th {\n",
       "        text-align: right;\n",
       "    }\n",
       "</style>\n",
       "<table border=\"1\" class=\"dataframe\">\n",
       "  <thead>\n",
       "    <tr style=\"text-align: right;\">\n",
       "      <th></th>\n",
       "      <th>police_report</th>\n",
       "      <th>claim_amount</th>\n",
       "      <th>total_policy_claims</th>\n",
       "      <th>fraudulent</th>\n",
       "      <th>incident_cause_driver_error</th>\n",
       "      <th>incident_cause_natural_causes</th>\n",
       "      <th>incident_cause_other_causes</th>\n",
       "      <th>incident_cause_other_driver_error</th>\n",
       "      <th>claim_area_home</th>\n",
       "      <th>claim_type_material_and_injury</th>\n",
       "      <th>claim_type_material_only</th>\n",
       "      <th>claim_year</th>\n",
       "      <th>claim_month</th>\n",
       "      <th>claim_day</th>\n",
       "      <th>high_risk</th>\n",
       "    </tr>\n",
       "  </thead>\n",
       "  <tbody>\n",
       "    <tr>\n",
       "      <th>0</th>\n",
       "      <td>0</td>\n",
       "      <td>2980.0</td>\n",
       "      <td>1.0</td>\n",
       "      <td>0</td>\n",
       "      <td>True</td>\n",
       "      <td>False</td>\n",
       "      <td>False</td>\n",
       "      <td>False</td>\n",
       "      <td>False</td>\n",
       "      <td>False</td>\n",
       "      <td>True</td>\n",
       "      <td>2017</td>\n",
       "      <td>11</td>\n",
       "      <td>27</td>\n",
       "      <td>0</td>\n",
       "    </tr>\n",
       "    <tr>\n",
       "      <th>1</th>\n",
       "      <td>0</td>\n",
       "      <td>2980.0</td>\n",
       "      <td>3.0</td>\n",
       "      <td>0</td>\n",
       "      <td>False</td>\n",
       "      <td>False</td>\n",
       "      <td>False</td>\n",
       "      <td>False</td>\n",
       "      <td>True</td>\n",
       "      <td>False</td>\n",
       "      <td>True</td>\n",
       "      <td>2018</td>\n",
       "      <td>10</td>\n",
       "      <td>3</td>\n",
       "      <td>0</td>\n",
       "    </tr>\n",
       "    <tr>\n",
       "      <th>2</th>\n",
       "      <td>0</td>\n",
       "      <td>3369.5</td>\n",
       "      <td>1.0</td>\n",
       "      <td>1</td>\n",
       "      <td>False</td>\n",
       "      <td>False</td>\n",
       "      <td>False</td>\n",
       "      <td>True</td>\n",
       "      <td>False</td>\n",
       "      <td>False</td>\n",
       "      <td>True</td>\n",
       "      <td>2018</td>\n",
       "      <td>2</td>\n",
       "      <td>2</td>\n",
       "      <td>1</td>\n",
       "    </tr>\n",
       "    <tr>\n",
       "      <th>3</th>\n",
       "      <td>0</td>\n",
       "      <td>1680.0</td>\n",
       "      <td>1.0</td>\n",
       "      <td>0</td>\n",
       "      <td>False</td>\n",
       "      <td>True</td>\n",
       "      <td>False</td>\n",
       "      <td>False</td>\n",
       "      <td>False</td>\n",
       "      <td>False</td>\n",
       "      <td>True</td>\n",
       "      <td>2018</td>\n",
       "      <td>6</td>\n",
       "      <td>17</td>\n",
       "      <td>0</td>\n",
       "    </tr>\n",
       "    <tr>\n",
       "      <th>4</th>\n",
       "      <td>0</td>\n",
       "      <td>2680.0</td>\n",
       "      <td>1.0</td>\n",
       "      <td>0</td>\n",
       "      <td>False</td>\n",
       "      <td>False</td>\n",
       "      <td>False</td>\n",
       "      <td>False</td>\n",
       "      <td>False</td>\n",
       "      <td>False</td>\n",
       "      <td>True</td>\n",
       "      <td>2018</td>\n",
       "      <td>1</td>\n",
       "      <td>13</td>\n",
       "      <td>0</td>\n",
       "    </tr>\n",
       "  </tbody>\n",
       "</table>\n",
       "</div>"
      ],
      "text/plain": [
       "   police_report  claim_amount  total_policy_claims  fraudulent  \\\n",
       "0              0        2980.0                  1.0           0   \n",
       "1              0        2980.0                  3.0           0   \n",
       "2              0        3369.5                  1.0           1   \n",
       "3              0        1680.0                  1.0           0   \n",
       "4              0        2680.0                  1.0           0   \n",
       "\n",
       "   incident_cause_driver_error  incident_cause_natural_causes  \\\n",
       "0                         True                          False   \n",
       "1                        False                          False   \n",
       "2                        False                          False   \n",
       "3                        False                           True   \n",
       "4                        False                          False   \n",
       "\n",
       "   incident_cause_other_causes  incident_cause_other_driver_error  \\\n",
       "0                        False                              False   \n",
       "1                        False                              False   \n",
       "2                        False                               True   \n",
       "3                        False                              False   \n",
       "4                        False                              False   \n",
       "\n",
       "   claim_area_home  claim_type_material_and_injury  claim_type_material_only  \\\n",
       "0            False                           False                      True   \n",
       "1             True                           False                      True   \n",
       "2            False                           False                      True   \n",
       "3            False                           False                      True   \n",
       "4            False                           False                      True   \n",
       "\n",
       "   claim_year  claim_month  claim_day  high_risk  \n",
       "0        2017           11         27          0  \n",
       "1        2018           10          3          0  \n",
       "2        2018            2          2          1  \n",
       "3        2018            6         17          0  \n",
       "4        2018            1         13          0  "
      ]
     },
     "execution_count": 155,
     "metadata": {},
     "output_type": "execute_result"
    }
   ],
   "source": [
    "import pandas as pd\n",
    "df_clean = pd.read_csv(r\"D:\\Jeeva\\ds_course\\insurance_final_project\\data\\cleaned_data\\cleaned_insurance_data.csv\")\n",
    "df_clean.head()"
   ]
  },
  {
   "cell_type": "code",
   "execution_count": 147,
   "id": "22a5c893-5015-462e-a19f-1f6fe2775c80",
   "metadata": {},
   "outputs": [
    {
     "name": "stdout",
     "output_type": "stream",
     "text": [
      "policy_claim_threshold: $3\n",
      "claim_amount_threshold: $24300.0\n"
     ]
    }
   ],
   "source": [
    "import numpy as np\n",
    "\n",
    "policy_claim_threshold = 3\n",
    "claim_amount_threshold = df_clean['claim_amount'].quantile(0.75)\n",
    "print(f\"policy_claim_threshold: ${policy_claim_threshold}\")\n",
    "print(f\"claim_amount_threshold: ${claim_amount_threshold}\")\n",
    "\n",
    "df_clean['high_risk'] = np.where(\n",
    "    (df_clean['total_policy_claims']>policy_claim_threshold) |\n",
    "    (df_clean['claim_amount']> claim_amount_threshold) |\n",
    "    (df_clean['fraudulent'] == 1),\n",
    "    1,\n",
    "    0\n",
    ")"
   ]
  },
  {
   "cell_type": "code",
   "execution_count": 157,
   "id": "0efcaabe-dd78-49a4-b8f3-710f6655f346",
   "metadata": {},
   "outputs": [
    {
     "data": {
      "text/html": [
       "<div>\n",
       "<style scoped>\n",
       "    .dataframe tbody tr th:only-of-type {\n",
       "        vertical-align: middle;\n",
       "    }\n",
       "\n",
       "    .dataframe tbody tr th {\n",
       "        vertical-align: top;\n",
       "    }\n",
       "\n",
       "    .dataframe thead th {\n",
       "        text-align: right;\n",
       "    }\n",
       "</style>\n",
       "<table border=\"1\" class=\"dataframe\">\n",
       "  <thead>\n",
       "    <tr style=\"text-align: right;\">\n",
       "      <th></th>\n",
       "      <th>police_report</th>\n",
       "      <th>claim_amount</th>\n",
       "      <th>total_policy_claims</th>\n",
       "      <th>fraudulent</th>\n",
       "      <th>incident_cause_driver_error</th>\n",
       "      <th>incident_cause_natural_causes</th>\n",
       "      <th>incident_cause_other_causes</th>\n",
       "      <th>incident_cause_other_driver_error</th>\n",
       "      <th>claim_area_home</th>\n",
       "      <th>claim_type_material_and_injury</th>\n",
       "      <th>claim_type_material_only</th>\n",
       "      <th>claim_year</th>\n",
       "      <th>claim_month</th>\n",
       "      <th>claim_day</th>\n",
       "      <th>high_risk</th>\n",
       "    </tr>\n",
       "  </thead>\n",
       "  <tbody>\n",
       "    <tr>\n",
       "      <th>0</th>\n",
       "      <td>0</td>\n",
       "      <td>2980.0</td>\n",
       "      <td>1.0</td>\n",
       "      <td>0</td>\n",
       "      <td>True</td>\n",
       "      <td>False</td>\n",
       "      <td>False</td>\n",
       "      <td>False</td>\n",
       "      <td>False</td>\n",
       "      <td>False</td>\n",
       "      <td>True</td>\n",
       "      <td>2017</td>\n",
       "      <td>11</td>\n",
       "      <td>27</td>\n",
       "      <td>0</td>\n",
       "    </tr>\n",
       "    <tr>\n",
       "      <th>1</th>\n",
       "      <td>0</td>\n",
       "      <td>2980.0</td>\n",
       "      <td>3.0</td>\n",
       "      <td>0</td>\n",
       "      <td>False</td>\n",
       "      <td>False</td>\n",
       "      <td>False</td>\n",
       "      <td>False</td>\n",
       "      <td>True</td>\n",
       "      <td>False</td>\n",
       "      <td>True</td>\n",
       "      <td>2018</td>\n",
       "      <td>10</td>\n",
       "      <td>3</td>\n",
       "      <td>0</td>\n",
       "    </tr>\n",
       "    <tr>\n",
       "      <th>2</th>\n",
       "      <td>0</td>\n",
       "      <td>3369.5</td>\n",
       "      <td>1.0</td>\n",
       "      <td>1</td>\n",
       "      <td>False</td>\n",
       "      <td>False</td>\n",
       "      <td>False</td>\n",
       "      <td>True</td>\n",
       "      <td>False</td>\n",
       "      <td>False</td>\n",
       "      <td>True</td>\n",
       "      <td>2018</td>\n",
       "      <td>2</td>\n",
       "      <td>2</td>\n",
       "      <td>1</td>\n",
       "    </tr>\n",
       "    <tr>\n",
       "      <th>3</th>\n",
       "      <td>0</td>\n",
       "      <td>1680.0</td>\n",
       "      <td>1.0</td>\n",
       "      <td>0</td>\n",
       "      <td>False</td>\n",
       "      <td>True</td>\n",
       "      <td>False</td>\n",
       "      <td>False</td>\n",
       "      <td>False</td>\n",
       "      <td>False</td>\n",
       "      <td>True</td>\n",
       "      <td>2018</td>\n",
       "      <td>6</td>\n",
       "      <td>17</td>\n",
       "      <td>0</td>\n",
       "    </tr>\n",
       "    <tr>\n",
       "      <th>4</th>\n",
       "      <td>0</td>\n",
       "      <td>2680.0</td>\n",
       "      <td>1.0</td>\n",
       "      <td>0</td>\n",
       "      <td>False</td>\n",
       "      <td>False</td>\n",
       "      <td>False</td>\n",
       "      <td>False</td>\n",
       "      <td>False</td>\n",
       "      <td>False</td>\n",
       "      <td>True</td>\n",
       "      <td>2018</td>\n",
       "      <td>1</td>\n",
       "      <td>13</td>\n",
       "      <td>0</td>\n",
       "    </tr>\n",
       "  </tbody>\n",
       "</table>\n",
       "</div>"
      ],
      "text/plain": [
       "   police_report  claim_amount  total_policy_claims  fraudulent  \\\n",
       "0              0        2980.0                  1.0           0   \n",
       "1              0        2980.0                  3.0           0   \n",
       "2              0        3369.5                  1.0           1   \n",
       "3              0        1680.0                  1.0           0   \n",
       "4              0        2680.0                  1.0           0   \n",
       "\n",
       "   incident_cause_driver_error  incident_cause_natural_causes  \\\n",
       "0                         True                          False   \n",
       "1                        False                          False   \n",
       "2                        False                          False   \n",
       "3                        False                           True   \n",
       "4                        False                          False   \n",
       "\n",
       "   incident_cause_other_causes  incident_cause_other_driver_error  \\\n",
       "0                        False                              False   \n",
       "1                        False                              False   \n",
       "2                        False                               True   \n",
       "3                        False                              False   \n",
       "4                        False                              False   \n",
       "\n",
       "   claim_area_home  claim_type_material_and_injury  claim_type_material_only  \\\n",
       "0            False                           False                      True   \n",
       "1             True                           False                      True   \n",
       "2            False                           False                      True   \n",
       "3            False                           False                      True   \n",
       "4            False                           False                      True   \n",
       "\n",
       "   claim_year  claim_month  claim_day  high_risk  \n",
       "0        2017           11         27          0  \n",
       "1        2018           10          3          0  \n",
       "2        2018            2          2          1  \n",
       "3        2018            6         17          0  \n",
       "4        2018            1         13          0  "
      ]
     },
     "execution_count": 157,
     "metadata": {},
     "output_type": "execute_result"
    }
   ],
   "source": [
    "df_clean.head()"
   ]
  },
  {
   "cell_type": "code",
   "execution_count": null,
   "id": "c501ad59-856c-4413-8aaf-b8f7c9606000",
   "metadata": {},
   "outputs": [],
   "source": []
  }
 ],
 "metadata": {
  "kernelspec": {
   "display_name": "Python [conda env:base] *",
   "language": "python",
   "name": "conda-base-py"
  },
  "language_info": {
   "codemirror_mode": {
    "name": "ipython",
    "version": 3
   },
   "file_extension": ".py",
   "mimetype": "text/x-python",
   "name": "python",
   "nbconvert_exporter": "python",
   "pygments_lexer": "ipython3",
   "version": "3.12.7"
  }
 },
 "nbformat": 4,
 "nbformat_minor": 5
}
