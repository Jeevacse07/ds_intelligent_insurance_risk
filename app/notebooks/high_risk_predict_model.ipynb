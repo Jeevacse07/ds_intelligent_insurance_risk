{
 "cells": [
  {
   "cell_type": "code",
   "execution_count": 51,
   "id": "758349be-25f8-4458-ac1c-44cbc4d0964c",
   "metadata": {},
   "outputs": [
    {
     "data": {
      "text/html": [
       "<div>\n",
       "<style scoped>\n",
       "    .dataframe tbody tr th:only-of-type {\n",
       "        vertical-align: middle;\n",
       "    }\n",
       "\n",
       "    .dataframe tbody tr th {\n",
       "        vertical-align: top;\n",
       "    }\n",
       "\n",
       "    .dataframe thead th {\n",
       "        text-align: right;\n",
       "    }\n",
       "</style>\n",
       "<table border=\"1\" class=\"dataframe\">\n",
       "  <thead>\n",
       "    <tr style=\"text-align: right;\">\n",
       "      <th></th>\n",
       "      <th>police_report</th>\n",
       "      <th>claim_amount</th>\n",
       "      <th>total_policy_claims</th>\n",
       "      <th>fraudulent</th>\n",
       "      <th>incident_cause_driver_error</th>\n",
       "      <th>incident_cause_natural_causes</th>\n",
       "      <th>incident_cause_other_causes</th>\n",
       "      <th>incident_cause_other_driver_error</th>\n",
       "      <th>claim_area_home</th>\n",
       "      <th>claim_type_material_and_injury</th>\n",
       "      <th>claim_type_material_only</th>\n",
       "      <th>claim_year</th>\n",
       "      <th>claim_month</th>\n",
       "      <th>claim_day</th>\n",
       "      <th>high_risk</th>\n",
       "    </tr>\n",
       "  </thead>\n",
       "  <tbody>\n",
       "    <tr>\n",
       "      <th>0</th>\n",
       "      <td>0</td>\n",
       "      <td>2980.0</td>\n",
       "      <td>1.0</td>\n",
       "      <td>0</td>\n",
       "      <td>True</td>\n",
       "      <td>False</td>\n",
       "      <td>False</td>\n",
       "      <td>False</td>\n",
       "      <td>False</td>\n",
       "      <td>False</td>\n",
       "      <td>True</td>\n",
       "      <td>2017</td>\n",
       "      <td>11</td>\n",
       "      <td>27</td>\n",
       "      <td>0</td>\n",
       "    </tr>\n",
       "    <tr>\n",
       "      <th>1</th>\n",
       "      <td>0</td>\n",
       "      <td>2980.0</td>\n",
       "      <td>3.0</td>\n",
       "      <td>0</td>\n",
       "      <td>False</td>\n",
       "      <td>False</td>\n",
       "      <td>False</td>\n",
       "      <td>False</td>\n",
       "      <td>True</td>\n",
       "      <td>False</td>\n",
       "      <td>True</td>\n",
       "      <td>2018</td>\n",
       "      <td>10</td>\n",
       "      <td>3</td>\n",
       "      <td>0</td>\n",
       "    </tr>\n",
       "    <tr>\n",
       "      <th>2</th>\n",
       "      <td>0</td>\n",
       "      <td>3369.5</td>\n",
       "      <td>1.0</td>\n",
       "      <td>1</td>\n",
       "      <td>False</td>\n",
       "      <td>False</td>\n",
       "      <td>False</td>\n",
       "      <td>True</td>\n",
       "      <td>False</td>\n",
       "      <td>False</td>\n",
       "      <td>True</td>\n",
       "      <td>2018</td>\n",
       "      <td>2</td>\n",
       "      <td>2</td>\n",
       "      <td>1</td>\n",
       "    </tr>\n",
       "    <tr>\n",
       "      <th>3</th>\n",
       "      <td>0</td>\n",
       "      <td>1680.0</td>\n",
       "      <td>1.0</td>\n",
       "      <td>0</td>\n",
       "      <td>False</td>\n",
       "      <td>True</td>\n",
       "      <td>False</td>\n",
       "      <td>False</td>\n",
       "      <td>False</td>\n",
       "      <td>False</td>\n",
       "      <td>True</td>\n",
       "      <td>2018</td>\n",
       "      <td>6</td>\n",
       "      <td>17</td>\n",
       "      <td>0</td>\n",
       "    </tr>\n",
       "    <tr>\n",
       "      <th>4</th>\n",
       "      <td>0</td>\n",
       "      <td>2680.0</td>\n",
       "      <td>1.0</td>\n",
       "      <td>0</td>\n",
       "      <td>False</td>\n",
       "      <td>False</td>\n",
       "      <td>False</td>\n",
       "      <td>False</td>\n",
       "      <td>False</td>\n",
       "      <td>False</td>\n",
       "      <td>True</td>\n",
       "      <td>2018</td>\n",
       "      <td>1</td>\n",
       "      <td>13</td>\n",
       "      <td>0</td>\n",
       "    </tr>\n",
       "  </tbody>\n",
       "</table>\n",
       "</div>"
      ],
      "text/plain": [
       "   police_report  claim_amount  total_policy_claims  fraudulent  \\\n",
       "0              0        2980.0                  1.0           0   \n",
       "1              0        2980.0                  3.0           0   \n",
       "2              0        3369.5                  1.0           1   \n",
       "3              0        1680.0                  1.0           0   \n",
       "4              0        2680.0                  1.0           0   \n",
       "\n",
       "   incident_cause_driver_error  incident_cause_natural_causes  \\\n",
       "0                         True                          False   \n",
       "1                        False                          False   \n",
       "2                        False                          False   \n",
       "3                        False                           True   \n",
       "4                        False                          False   \n",
       "\n",
       "   incident_cause_other_causes  incident_cause_other_driver_error  \\\n",
       "0                        False                              False   \n",
       "1                        False                              False   \n",
       "2                        False                               True   \n",
       "3                        False                              False   \n",
       "4                        False                              False   \n",
       "\n",
       "   claim_area_home  claim_type_material_and_injury  claim_type_material_only  \\\n",
       "0            False                           False                      True   \n",
       "1             True                           False                      True   \n",
       "2            False                           False                      True   \n",
       "3            False                           False                      True   \n",
       "4            False                           False                      True   \n",
       "\n",
       "   claim_year  claim_month  claim_day  high_risk  \n",
       "0        2017           11         27          0  \n",
       "1        2018           10          3          0  \n",
       "2        2018            2          2          1  \n",
       "3        2018            6         17          0  \n",
       "4        2018            1         13          0  "
      ]
     },
     "execution_count": 51,
     "metadata": {},
     "output_type": "execute_result"
    }
   ],
   "source": [
    "import pandas as pd\n",
    "\n",
    "#read data\n",
    "df = pd.read_csv(r\"D:\\Jeeva\\ds_course\\insurance_final_project\\data\\cleaned_data\\cleaned_insurance_data.csv\")\n",
    "df.head()"
   ]
  },
  {
   "cell_type": "code",
   "execution_count": 53,
   "id": "f8481949-0132-4e1f-83f1-5018cfbbd4e7",
   "metadata": {},
   "outputs": [
    {
     "name": "stdout",
     "output_type": "stream",
     "text": [
      "<class 'pandas.core.frame.DataFrame'>\n",
      "RangeIndex: 1035 entries, 0 to 1034\n",
      "Data columns (total 15 columns):\n",
      " #   Column                             Non-Null Count  Dtype  \n",
      "---  ------                             --------------  -----  \n",
      " 0   police_report                      1035 non-null   int64  \n",
      " 1   claim_amount                       1035 non-null   float64\n",
      " 2   total_policy_claims                1035 non-null   float64\n",
      " 3   fraudulent                         1035 non-null   int64  \n",
      " 4   incident_cause_driver_error        1035 non-null   bool   \n",
      " 5   incident_cause_natural_causes      1035 non-null   bool   \n",
      " 6   incident_cause_other_causes        1035 non-null   bool   \n",
      " 7   incident_cause_other_driver_error  1035 non-null   bool   \n",
      " 8   claim_area_home                    1035 non-null   bool   \n",
      " 9   claim_type_material_and_injury     1035 non-null   bool   \n",
      " 10  claim_type_material_only           1035 non-null   bool   \n",
      " 11  claim_year                         1035 non-null   int64  \n",
      " 12  claim_month                        1035 non-null   int64  \n",
      " 13  claim_day                          1035 non-null   int64  \n",
      " 14  high_risk                          1035 non-null   int64  \n",
      "dtypes: bool(7), float64(2), int64(6)\n",
      "memory usage: 71.9 KB\n"
     ]
    }
   ],
   "source": [
    "df.info()"
   ]
  },
  {
   "cell_type": "code",
   "execution_count": 55,
   "id": "7d070cc3-b7ee-4d0f-ae50-757262c62e16",
   "metadata": {},
   "outputs": [
    {
     "name": "stdout",
     "output_type": "stream",
     "text": [
      "                precision    recall  f1-score   support\n",
      "\n",
      "Non-Fraudulent       0.71      0.69      0.70       102\n",
      "    Fraudulent       0.70      0.72      0.71       105\n",
      "\n",
      "      accuracy                           0.71       207\n",
      "     macro avg       0.71      0.71      0.71       207\n",
      "  weighted avg       0.71      0.71      0.71       207\n",
      "\n"
     ]
    }
   ],
   "source": [
    "from sklearn.linear_model import LogisticRegression\n",
    "from sklearn.metrics import classification_report\n",
    "from sklearn.model_selection import train_test_split\n",
    "from sklearn.preprocessing import StandardScaler\n",
    "import pandas as pd\n",
    "\n",
    "# Select features and target\n",
    "X = df.drop(columns=['fraudulent','claim_amount','high_risk'])\n",
    "y = df['high_risk']\n",
    "\n",
    "# Train-test split\n",
    "X_train, X_test, y_train, y_test = train_test_split(X, y, test_size=0.2, random_state=42)\n",
    "\n",
    "# Scale only continuous numeric columns\n",
    "cols_to_scale = ['total_policy_claims', 'claim_year', 'claim_month', 'claim_day']\n",
    "scaler = StandardScaler()\n",
    "X_train_scaled = X_train.copy()\n",
    "X_test_scaled = X_test.copy()\n",
    "\n",
    "X_train_scaled[cols_to_scale] = scaler.fit_transform(X_train[cols_to_scale])\n",
    "X_test_scaled[cols_to_scale] = scaler.transform(X_test[cols_to_scale])\n",
    "\n",
    "# Logistic Regression\n",
    "model = LogisticRegression(random_state=24)\n",
    "model.fit(X_train_scaled, y_train)\n",
    "y_pred = model.predict(X_test_scaled)\n",
    "\n",
    "# Evaluation\n",
    "print(classification_report(y_test, y_pred, target_names=['Non-Fraudulent', 'Fraudulent']))\n"
   ]
  },
  {
   "cell_type": "code",
   "execution_count": 57,
   "id": "813ffa7f-72a3-46be-ab6c-2e582aa6a8f4",
   "metadata": {},
   "outputs": [
    {
     "name": "stdout",
     "output_type": "stream",
     "text": [
      "              precision    recall  f1-score   support\n",
      "\n",
      "           0       0.59      0.66      0.62       102\n",
      "           1       0.63      0.56      0.59       105\n",
      "\n",
      "    accuracy                           0.61       207\n",
      "   macro avg       0.61      0.61      0.61       207\n",
      "weighted avg       0.61      0.61      0.61       207\n",
      "\n",
      "Train Accuracy: 0.955\n",
      "Test Accuracy: 0.609\n"
     ]
    },
    {
     "data": {
      "image/png": "[encoded data removed]",
      "text/plain": [
       "<Figure size 640x480 with 2 Axes>"
      ]
     },
     "metadata": {},
     "output_type": "display_data"
    }
   ],
   "source": [
    "#decision tree classifier\n",
    "from sklearn.tree import DecisionTreeClassifier\n",
    "\n",
    "dc_model = DecisionTreeClassifier(random_state = 24)\n",
    "dc_model.fit(X_train,y_train)\n",
    "y_pred = dc_model.predict(X_test)\n",
    "print(classification_report(y_test,y_pred))\n",
    "\n",
    "train_acc = dc_model.score(X_train, y_train)\n",
    "test_acc = dc_model.score(X_test, y_test)\n",
    "print(f\"Train Accuracy: {train_acc:.3f}\")\n",
    "print(f\"Test Accuracy: {test_acc:.3f}\")\n",
    "\n",
    "\n",
    "from sklearn.metrics import confusion_matrix\n",
    "import seaborn as sns\n",
    "import matplotlib.pyplot as plt\n",
    "\n",
    "cm = confusion_matrix(y_test, y_pred)\n",
    "sns.heatmap(cm, annot=True, fmt='d', cmap='Blues')\n",
    "plt.xlabel('Predicted')\n",
    "plt.ylabel('Actual')\n",
    "plt.title('Decision Tree Confusion Matrix')\n",
    "plt.show()\n"
   ]
  },
  {
   "cell_type": "code",
   "execution_count": 59,
   "id": "d4d3897e-5eb3-4624-b24c-7a24d9da0f83",
   "metadata": {
    "scrolled": true
   },
   "outputs": [
    {
     "name": "stdout",
     "output_type": "stream",
     "text": [
      "              precision    recall  f1-score   support\n",
      "\n",
      "           0       0.69      0.71      0.70       102\n",
      "           1       0.71      0.69      0.70       105\n",
      "\n",
      "    accuracy                           0.70       207\n",
      "   macro avg       0.70      0.70      0.70       207\n",
      "weighted avg       0.70      0.70      0.70       207\n",
      "\n"
     ]
    },
    {
     "data": {
      "image/png": "[encoded data removed]",
      "text/plain": [
       "<Figure size 640x480 with 2 Axes>"
      ]
     },
     "metadata": {},
     "output_type": "display_data"
    }
   ],
   "source": [
    "from sklearn.ensemble import RandomForestClassifier\n",
    "import seaborn as sns\n",
    "import matplotlib.pyplot\n",
    "\n",
    "model = RandomForestClassifier(random_state=24)\n",
    "model.fit(X_train,y_train)\n",
    "y_pred = model.predict(X_test)\n",
    "\n",
    "print(classification_report(y_test,y_pred))\n",
    "\n",
    "from sklearn.metrics import confusion_matrix\n",
    "\n",
    "cm = confusion_matrix(y_test,y_pred)\n",
    "sns.heatmap(cm,annot=True,fmt='d',cmap='Blues')\n",
    "plt.xlabel(\"Predicted Values\")\n",
    "plt.ylabel(\"Actual values\")\n",
    "plt.title('RandomForestClassifier Confusion Matrix')\n",
    "plt.show()\n"
   ]
  },
  {
   "cell_type": "code",
   "execution_count": 61,
   "id": "e8f90077-30d9-42b4-9acc-5ab938783b18",
   "metadata": {},
   "outputs": [
    {
     "name": "stdout",
     "output_type": "stream",
     "text": [
      "              precision    recall  f1-score   support\n",
      "\n",
      "           0       0.74      0.70      0.72       107\n",
      "           1       0.70      0.73      0.71       100\n",
      "\n",
      "    accuracy                           0.71       207\n",
      "   macro avg       0.72      0.72      0.71       207\n",
      "weighted avg       0.72      0.71      0.72       207\n",
      "\n"
     ]
    },
    {
     "data": {
      "image/png": "[encoded data removed]",
      "text/plain": [
       "<Figure size 640x480 with 2 Axes>"
      ]
     },
     "metadata": {},
     "output_type": "display_data"
    }
   ],
   "source": [
    "from sklearn.ensemble import GradientBoostingClassifier\n",
    "\n",
    "model = GradientBoostingClassifier(random_state = 24)\n",
    "model.fit(X_train,y_train)\n",
    "y_pred = model.predict(X_test)\n",
    "\n",
    "print(classification_report(y_pred,y_test))\n",
    "\n",
    "cm = confusion_matrix(y_pred,y_test)\n",
    "\n",
    "sns.heatmap(cm,annot=True,fmt='d',cmap='Blues')\n",
    "plt.xlabel(\"Predicted values\")\n",
    "plt.ylabel(\"Actual values\")\n",
    "plt.title(\"XG Boost\")\n",
    "plt.show()"
   ]
  },
  {
   "cell_type": "code",
   "execution_count": 63,
   "id": "b6c25ceb-39fe-4eef-aa19-56f9cf3dcc5a",
   "metadata": {},
   "outputs": [
    {
     "data": {
      "text/html": [
       "<div>\n",
       "<style scoped>\n",
       "    .dataframe tbody tr th:only-of-type {\n",
       "        vertical-align: middle;\n",
       "    }\n",
       "\n",
       "    .dataframe tbody tr th {\n",
       "        vertical-align: top;\n",
       "    }\n",
       "\n",
       "    .dataframe thead th {\n",
       "        text-align: right;\n",
       "    }\n",
       "</style>\n",
       "<table border=\"1\" class=\"dataframe\">\n",
       "  <thead>\n",
       "    <tr style=\"text-align: right;\">\n",
       "      <th></th>\n",
       "      <th>Accuracy</th>\n",
       "      <th>Precision</th>\n",
       "      <th>Recall</th>\n",
       "      <th>F1 Score</th>\n",
       "    </tr>\n",
       "    <tr>\n",
       "      <th>Model</th>\n",
       "      <th></th>\n",
       "      <th></th>\n",
       "      <th></th>\n",
       "      <th></th>\n",
       "    </tr>\n",
       "  </thead>\n",
       "  <tbody>\n",
       "    <tr>\n",
       "      <th>Logistic Regression</th>\n",
       "      <td>0.700483</td>\n",
       "      <td>0.697248</td>\n",
       "      <td>0.723810</td>\n",
       "      <td>0.710280</td>\n",
       "    </tr>\n",
       "    <tr>\n",
       "      <th>Decision Tree</th>\n",
       "      <td>0.608696</td>\n",
       "      <td>0.627660</td>\n",
       "      <td>0.561905</td>\n",
       "      <td>0.592965</td>\n",
       "    </tr>\n",
       "    <tr>\n",
       "      <th>Random Forest</th>\n",
       "      <td>0.695652</td>\n",
       "      <td>0.705882</td>\n",
       "      <td>0.685714</td>\n",
       "      <td>0.695652</td>\n",
       "    </tr>\n",
       "  </tbody>\n",
       "</table>\n",
       "</div>"
      ],
      "text/plain": [
       "                     Accuracy  Precision    Recall  F1 Score\n",
       "Model                                                       \n",
       "Logistic Regression  0.700483   0.697248  0.723810  0.710280\n",
       "Decision Tree        0.608696   0.627660  0.561905  0.592965\n",
       "Random Forest        0.695652   0.705882  0.685714  0.695652"
      ]
     },
     "execution_count": 63,
     "metadata": {},
     "output_type": "execute_result"
    }
   ],
   "source": [
    "from sklearn.metrics import accuracy_score, precision_score, recall_score, f1_score\n",
    "\n",
    "def evaluate_model(name, y_test, y_pred):\n",
    "    return {\n",
    "        'Model': name,\n",
    "        'Accuracy': accuracy_score(y_test, y_pred),\n",
    "        'Precision': precision_score(y_test, y_pred),\n",
    "        'Recall': recall_score(y_test, y_pred),\n",
    "        'F1 Score': f1_score(y_test, y_pred)\n",
    "    }\n",
    "\n",
    "results = []\n",
    "\n",
    "# Logistic\n",
    "log_model = LogisticRegression(random_state=24, max_iter=1000)\n",
    "log_model.fit(X_train, y_train)\n",
    "log_pred = log_model.predict(X_test)\n",
    "results.append(evaluate_model(\"Logistic Regression\", y_test, log_pred))\n",
    "\n",
    "# Decision Tree\n",
    "tree_model = DecisionTreeClassifier(random_state=24)\n",
    "tree_model.fit(X_train, y_train)\n",
    "tree_pred = tree_model.predict(X_test)\n",
    "results.append(evaluate_model(\"Decision Tree\", y_test, tree_pred))\n",
    "\n",
    "# Random Forest\n",
    "rf_model = RandomForestClassifier(random_state=24)\n",
    "rf_model.fit(X_train, y_train)\n",
    "rf_pred = rf_model.predict(X_test)\n",
    "results.append(evaluate_model(\"Random Forest\", y_test, rf_pred))\n",
    "\n",
    "# Convert to DataFrame\n",
    "pd.DataFrame(results).set_index(\"Model\")\n"
   ]
  },
  {
   "cell_type": "code",
   "execution_count": 55,
   "id": "8d53faa8-f9b0-4d5d-8673-8eb5cc179672",
   "metadata": {},
   "outputs": [
    {
     "name": "stdout",
     "output_type": "stream",
     "text": [
      "Random Forest F1 CV Avg: 1.000\n"
     ]
    }
   ],
   "source": [
    "from sklearn.model_selection import cross_val_score\n",
    "\n",
    "scores = cross_val_score(RandomForestClassifier(random_state=24), X, y, cv=5, scoring='f1')\n",
    "print(f\"Random Forest F1 CV Avg: {scores.mean():.3f}\")\n"
   ]
  },
  {
   "cell_type": "code",
   "execution_count": 65,
   "id": "e1c67c2e-d197-404c-82fd-fbe24f09f672",
   "metadata": {},
   "outputs": [
    {
     "name": "stdout",
     "output_type": "stream",
     "text": [
      "Logistic Regression feature importance:\n",
      "claim_type_material_only             1.886878\n",
      "total_policy_claims                  0.795047\n",
      "claim_type_material_and_injury       0.355310\n",
      "incident_cause_other_driver_error    0.255074\n",
      "incident_cause_other_causes          0.130802\n",
      "claim_area_home                      0.130413\n",
      "police_report                        0.067788\n",
      "incident_cause_natural_causes        0.050173\n",
      "incident_cause_driver_error          0.023195\n",
      "claim_month                          0.013149\n",
      "claim_day                            0.006321\n",
      "claim_year                           0.000267\n",
      "dtype: float64\n",
      "\n",
      "Decision Tree feature importance:\n",
      "total_policy_claims                  0.229080\n",
      "claim_day                            0.206032\n",
      "claim_type_material_only             0.192951\n",
      "claim_month                          0.185050\n",
      "claim_area_home                      0.034524\n",
      "claim_year                           0.032915\n",
      "incident_cause_driver_error          0.031178\n",
      "claim_type_material_and_injury       0.021669\n",
      "incident_cause_natural_causes        0.020286\n",
      "police_report                        0.019615\n",
      "incident_cause_other_driver_error    0.014809\n",
      "incident_cause_other_causes          0.011892\n",
      "dtype: float64\n",
      "\n",
      "Random Forest feature importance:\n",
      "claim_day                            0.244780\n",
      "claim_month                          0.199917\n",
      "total_policy_claims                  0.184010\n",
      "claim_type_material_only             0.146660\n",
      "claim_type_material_and_injury       0.054873\n",
      "claim_year                           0.034744\n",
      "police_report                        0.026649\n",
      "claim_area_home                      0.024212\n",
      "incident_cause_driver_error          0.023685\n",
      "incident_cause_other_causes          0.021207\n",
      "incident_cause_other_driver_error    0.020925\n",
      "incident_cause_natural_causes        0.018339\n",
      "dtype: float64\n"
     ]
    }
   ],
   "source": [
    "import pandas as pd\n",
    "import numpy as np\n",
    "\n",
    "# For Logistic Regression (importance by absolute coefficients)\n",
    "log_importance = np.abs(log_model.coef_[0])\n",
    "log_features = pd.Series(log_importance, index=X_train.columns)\n",
    "print(\"Logistic Regression feature importance:\")\n",
    "print(log_features.sort_values(ascending=False))\n",
    "\n",
    "# For Decision Tree\n",
    "tree_importance = tree_model.feature_importances_\n",
    "tree_features = pd.Series(tree_importance, index=X_train.columns)\n",
    "print(\"\\nDecision Tree feature importance:\")\n",
    "print(tree_features.sort_values(ascending=False))\n",
    "\n",
    "# For Random Forest\n",
    "rf_importance = rf_model.feature_importances_\n",
    "rf_features = pd.Series(rf_importance, index=X_train.columns)\n",
    "print(\"\\nRandom Forest feature importance:\")\n",
    "print(rf_features.sort_values(ascending=False))\n"
   ]
  },
  {
   "cell_type": "code",
   "execution_count": 67,
   "id": "54dc22a9-ff61-454a-856f-f2b523ca43c0",
   "metadata": {},
   "outputs": [
    {
     "data": {
      "text/plain": [
       "['rf_high_risk_predict_model.joblib']"
      ]
     },
     "execution_count": 67,
     "metadata": {},
     "output_type": "execute_result"
    }
   ],
   "source": [
    "#save model\n",
    "\n",
    "import joblib\n",
    "joblib.dump(rf_model,\"rf_high_risk_predict_model.joblib\")"
   ]
  },
  {
   "cell_type": "code",
   "execution_count": null,
   "id": "bc102833-a208-41c5-a7a0-602cf74d09b7",
   "metadata": {},
   "outputs": [],
   "source": []
  }
 ],
 "metadata": {
  "kernelspec": {
   "display_name": "Python [conda env:base] *",
   "language": "python",
   "name": "conda-base-py"
  },
  "language_info": {
   "codemirror_mode": {
    "name": "ipython",
    "version": 3
   },
   "file_extension": ".py",
   "mimetype": "text/x-python",
   "name": "python",
   "nbconvert_exporter": "python",
   "pygments_lexer": "ipython3",
   "version": "3.12.7"
  }
 },
 "nbformat": 4,
 "nbformat_minor": 5
}
